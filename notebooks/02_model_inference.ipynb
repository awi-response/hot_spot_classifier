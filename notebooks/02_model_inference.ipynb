{
 "cells": [
  {
   "cell_type": "markdown",
   "metadata": {},
   "source": [
    "# Script for running Machine-Learning models for Detecting Hot Spots\n",
    "## Part 2 Inference\n",
    "\n",
    "#### Requirements\n",
    "* matplotlib\n",
    "* numpy\n",
    "* pandas\n",
    "* pycaret\n",
    "* rasterio"
   ]
  },
  {
   "cell_type": "code",
   "execution_count": 1,
   "metadata": {},
   "outputs": [],
   "source": [
    "import glob\n",
    "import matplotlib.pyplot as plt\n",
    "import numpy as np\n",
    "import os\n",
    "import pandas as pd\n",
    "\n",
    "import pycaret\n",
    "import pycaret.classification as cl\n",
    "\n",
    "import rasterio"
   ]
  },
  {
   "cell_type": "markdown",
   "metadata": {},
   "source": [
    "#### Settings "
   ]
  },
  {
   "cell_type": "code",
   "execution_count": 4,
   "metadata": {},
   "outputs": [],
   "source": [
    "MODEL = '../models/2020-10-30_catBoost_tuned_model'\n",
    "EXPERIMENT = '../models/2020-10-30_catBoost_tuned'\n",
    "#MODEL = '../models/2020-11-03_ET_calibrated_7class_model'"
   ]
  },
  {
   "cell_type": "code",
   "execution_count": null,
   "metadata": {},
   "outputs": [],
   "source": [
    "DATA = '../data_inference/Inference_Baldwin.tif'\n",
    "DATA_OUTPUT = '../data_inference/Inference_Baldwin_classified.tif'"
   ]
  },
  {
   "cell_type": "code",
   "execution_count": null,
   "metadata": {},
   "outputs": [],
   "source": [
    "DATA = '../data_inference/Yana/Inference_Yana-0000006400-0000019200-016.tif'\n",
    "DATA_OUTPUT = '../data_inference/Yana/Inference_Yana-0000006400-0000019200-016_classified.tif'"
   ]
  },
  {
   "cell_type": "markdown",
   "metadata": {},
   "source": [
    "#### Model Loading "
   ]
  },
  {
   "cell_type": "code",
   "execution_count": 3,
   "metadata": {},
   "outputs": [
    {
     "name": "stdout",
     "output_type": "stream",
     "text": [
      "Transformation Pipeline and Model Sucessfully Loaded\n"
     ]
    }
   ],
   "source": [
    "model = cl.load_model(MODEL)"
   ]
  },
  {
   "cell_type": "code",
   "execution_count": 5,
   "metadata": {},
   "outputs": [
    {
     "data": {
      "text/html": [
       "<div>\n",
       "<style scoped>\n",
       "    .dataframe tbody tr th:only-of-type {\n",
       "        vertical-align: middle;\n",
       "    }\n",
       "\n",
       "    .dataframe tbody tr th {\n",
       "        vertical-align: top;\n",
       "    }\n",
       "\n",
       "    .dataframe thead th {\n",
       "        text-align: right;\n",
       "    }\n",
       "</style>\n",
       "<table border=\"1\" class=\"dataframe\">\n",
       "  <thead>\n",
       "    <tr style=\"text-align: right;\">\n",
       "      <th></th>\n",
       "      <th>Object</th>\n",
       "    </tr>\n",
       "  </thead>\n",
       "  <tbody>\n",
       "    <tr>\n",
       "      <th>0</th>\n",
       "      <td>Classification Setup Config</td>\n",
       "    </tr>\n",
       "    <tr>\n",
       "      <th>1</th>\n",
       "      <td>X_training Set</td>\n",
       "    </tr>\n",
       "    <tr>\n",
       "      <th>2</th>\n",
       "      <td>y_training Set</td>\n",
       "    </tr>\n",
       "    <tr>\n",
       "      <th>3</th>\n",
       "      <td>X_test Set</td>\n",
       "    </tr>\n",
       "    <tr>\n",
       "      <th>4</th>\n",
       "      <td>y_test Set</td>\n",
       "    </tr>\n",
       "    <tr>\n",
       "      <th>5</th>\n",
       "      <td>Transformation Pipeline</td>\n",
       "    </tr>\n",
       "    <tr>\n",
       "      <th>6</th>\n",
       "      <td>Compare Models Score Grid</td>\n",
       "    </tr>\n",
       "    <tr>\n",
       "      <th>7</th>\n",
       "      <td>Tuned OneVsRestClassifier</td>\n",
       "    </tr>\n",
       "    <tr>\n",
       "      <th>8</th>\n",
       "      <td>Tuned OneVsRestClassifier Score Grid</td>\n",
       "    </tr>\n",
       "    <tr>\n",
       "      <th>9</th>\n",
       "      <td>Tuned OneVsRestClassifier</td>\n",
       "    </tr>\n",
       "    <tr>\n",
       "      <th>10</th>\n",
       "      <td>Tuned OneVsRestClassifier Score Grid</td>\n",
       "    </tr>\n",
       "    <tr>\n",
       "      <th>11</th>\n",
       "      <td>Tuned OneVsRestClassifier</td>\n",
       "    </tr>\n",
       "    <tr>\n",
       "      <th>12</th>\n",
       "      <td>Tuned OneVsRestClassifier Score Grid</td>\n",
       "    </tr>\n",
       "    <tr>\n",
       "      <th>13</th>\n",
       "      <td>Final OneVsRestClassifier</td>\n",
       "    </tr>\n",
       "  </tbody>\n",
       "</table>\n",
       "</div>"
      ],
      "text/plain": [
       "                                  Object\n",
       "0            Classification Setup Config\n",
       "1                         X_training Set\n",
       "2                         y_training Set\n",
       "3                             X_test Set\n",
       "4                             y_test Set\n",
       "5                Transformation Pipeline\n",
       "6              Compare Models Score Grid\n",
       "7              Tuned OneVsRestClassifier\n",
       "8   Tuned OneVsRestClassifier Score Grid\n",
       "9              Tuned OneVsRestClassifier\n",
       "10  Tuned OneVsRestClassifier Score Grid\n",
       "11             Tuned OneVsRestClassifier\n",
       "12  Tuned OneVsRestClassifier Score Grid\n",
       "13             Final OneVsRestClassifier"
      ]
     },
     "metadata": {},
     "output_type": "display_data"
    }
   ],
   "source": [
    "exp = cl.load_experiment(EXPERIMENT)"
   ]
  },
  {
   "cell_type": "markdown",
   "metadata": {},
   "source": [
    "### Data Loading \n",
    "Load raster data and reorder"
   ]
  },
  {
   "cell_type": "code",
   "execution_count": null,
   "metadata": {},
   "outputs": [],
   "source": [
    "with rasterio.open(DATA) as src:\n",
    "    columns = src.descriptions\n",
    "    data = src.read()"
   ]
  },
  {
   "cell_type": "code",
   "execution_count": null,
   "metadata": {},
   "outputs": [],
   "source": [
    "data.shape"
   ]
  },
  {
   "cell_type": "markdown",
   "metadata": {},
   "source": [
    "### Data Analysis - Prediction "
   ]
  },
  {
   "cell_type": "code",
   "execution_count": null,
   "metadata": {},
   "outputs": [],
   "source": [
    "data_reshaped = pd.DataFrame(data.reshape(27, -1).T, columns=columns)"
   ]
  },
  {
   "cell_type": "code",
   "execution_count": null,
   "metadata": {},
   "outputs": [],
   "source": [
    "prediction = cl.predict_model(model, data_reshaped)['Label'].values.reshape(*data.shape[1:])"
   ]
  },
  {
   "cell_type": "markdown",
   "metadata": {},
   "source": [
    "### Data Export "
   ]
  },
  {
   "cell_type": "code",
   "execution_count": null,
   "metadata": {},
   "outputs": [],
   "source": [
    "with rasterio.open(DATA) as src:\n",
    "    with rasterio.open(DATA_OUTPUT, mode='w', \n",
    "                    driver=src.driver, \n",
    "                    width=src.width, \n",
    "                    height=src.height, \n",
    "                    count=1, \n",
    "                    dtype='uint8', \n",
    "                    transform=src.transform,\n",
    "                    crs=src.crs) as dst:\n",
    "        dst.write_band(1, np.array(prediction, dtype=np.uint8))"
   ]
  },
  {
   "cell_type": "markdown",
   "metadata": {},
   "source": [
    "### Visualization"
   ]
  },
  {
   "cell_type": "code",
   "execution_count": null,
   "metadata": {},
   "outputs": [],
   "source": [
    "plt.imshow(prediction)"
   ]
  },
  {
   "cell_type": "code",
   "execution_count": null,
   "metadata": {},
   "outputs": [],
   "source": [
    "plt.imshow(prediction==15)"
   ]
  },
  {
   "cell_type": "code",
   "execution_count": null,
   "metadata": {},
   "outputs": [],
   "source": []
  },
  {
   "cell_type": "markdown",
   "metadata": {},
   "source": [
    "### Automation"
   ]
  },
  {
   "cell_type": "code",
   "execution_count": 6,
   "metadata": {},
   "outputs": [],
   "source": [
    "def run_inference(model_path, infile_path, outfile_path):\n",
    "    print(\"Processing dataset input:\", infile_path)\n",
    "    print(\"Processing dataset output:\", outfile_path)\n",
    "    \n",
    "    model = cl.load_model(model_path)\n",
    "    \n",
    "    with rasterio.open(infile_path) as src:\n",
    "        columns = src.descriptions\n",
    "        data = src.read()\n",
    "    data_reshaped = pd.DataFrame(data.reshape(27, -1).T, columns=columns)\n",
    "    \n",
    "    prediction = cl.predict_model(model, data_reshaped)['Label'].values.reshape(*data.shape[1:])\n",
    "    \n",
    "    with rasterio.open(infile_path) as src:\n",
    "        with rasterio.open(outfile_path, \n",
    "                            mode='w', \n",
    "                            driver=src.driver, \n",
    "                            width=src.width, \n",
    "                            height=src.height, \n",
    "                            count=1, \n",
    "                            dtype='uint8', \n",
    "                            transform=src.transform,\n",
    "                            crs=src.crs) as dst:\n",
    "            dst.write_band(1, np.array(prediction, dtype=np.uint8))"
   ]
  },
  {
   "cell_type": "code",
   "execution_count": 8,
   "metadata": {},
   "outputs": [],
   "source": [
    "flist = glob.glob(r'K:\\127_HotSpotOptimizer\\hot_spot_classifier\\data_inference\\*.tif')"
   ]
  },
  {
   "cell_type": "code",
   "execution_count": 9,
   "metadata": {},
   "outputs": [
    {
     "data": {
      "text/plain": [
       "[]"
      ]
     },
     "execution_count": 9,
     "metadata": {},
     "output_type": "execute_result"
    }
   ],
   "source": [
    "flist[:2]"
   ]
  },
  {
   "cell_type": "code",
   "execution_count": 10,
   "metadata": {},
   "outputs": [],
   "source": [
    "for f in flist[:2]:\n",
    "    outfile = os.path.join(os.path.dirname(f), os.path.basename(f)[:-4] + '_classified.tif')\n",
    "    run_inference(MODEL, f, outfile)"
   ]
  },
  {
   "cell_type": "code",
   "execution_count": null,
   "metadata": {},
   "outputs": [],
   "source": []
  }
 ],
 "metadata": {
  "kernelspec": {
   "display_name": "Python 3",
   "language": "python",
   "name": "python3"
  },
  "language_info": {
   "codemirror_mode": {
    "name": "ipython",
    "version": 3
   },
   "file_extension": ".py",
   "mimetype": "text/x-python",
   "name": "python",
   "nbconvert_exporter": "python",
   "pygments_lexer": "ipython3",
   "version": "3.7.7"
  }
 },
 "nbformat": 4,
 "nbformat_minor": 4
}

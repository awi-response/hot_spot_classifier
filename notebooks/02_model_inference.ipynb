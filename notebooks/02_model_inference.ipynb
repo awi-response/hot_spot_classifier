{
 "cells": [
  {
   "cell_type": "markdown",
   "metadata": {},
   "source": [
    "# Script for running Machine-Learning models for Detecting Hot Spots\n",
    "## Part 2 Inference\n",
    "\n",
    "#### Requirements\n",
    "* matplotlib\n",
    "* numpy\n",
    "* pandas\n",
    "* pycaret 1.0.1\n",
    "* rasterio"
   ]
  },
  {
   "cell_type": "code",
   "execution_count": null,
   "metadata": {},
   "outputs": [],
   "source": [
    "import glob\n",
    "import matplotlib.pyplot as plt\n",
    "import numpy as np\n",
    "import os\n",
    "import pandas as pd\n",
    "\n",
    "import pycaret\n",
    "import pycaret.classification as cl\n",
    "\n",
    "import rasterio"
   ]
  },
  {
   "cell_type": "markdown",
   "metadata": {},
   "source": [
    "#### Settings "
   ]
  },
  {
   "cell_type": "code",
   "execution_count": null,
   "metadata": {},
   "outputs": [],
   "source": [
    "MODEL = '../models/2020-10-30_catBoost_tuned_model'"
   ]
  },
  {
   "cell_type": "markdown",
   "metadata": {},
   "source": [
    "### Automation"
   ]
  },
  {
   "cell_type": "code",
   "execution_count": null,
   "metadata": {},
   "outputs": [],
   "source": [
    "def run_inference_v2(model_path, infile_path, outfile_label_path, outfile_score_path):\n",
    "    print(\"Processing dataset input:\", infile_path)\n",
    "    print(\"Processing dataset output:\", outfile_label_path)\n",
    "    print(\"Processing dataset output:\", outfile_score_path)\n",
    "    \n",
    "    model = cl.load_model(model_path)\n",
    "    try:\n",
    "        model[1].n_jobs = -1\n",
    "    except:\n",
    "        pass\n",
    "    # class translation\n",
    "    transform_dict = dict(zip(np.arange(len(model[1].classes_)), model[1].classes_))\n",
    "    \n",
    "    with rasterio.open(infile_path) as src:\n",
    "        ds_shape = src.shape \n",
    "        columns = src.descriptions\n",
    "        data_reshaped = pd.DataFrame(src.read().reshape(27, -1).T, columns=columns)\n",
    "    \n",
    "    # calculate class probabilities\n",
    "    proba = model[1].predict_proba(model[0].transform(data_reshaped[:]))\n",
    "    proba_reshaped = proba.T.reshape(len(model[1].classes_), *(ds_shape))\n",
    "    # get majority class\n",
    "    class_reshaped = (np.vectorize(transform_dict.get)(np.argmax(proba, axis=1))).reshape(*(ds_shape))\n",
    "    \n",
    "    # write output\n",
    "    with rasterio.open(infile_path) as src:\n",
    "        with rasterio.open(outfile_label_path, \n",
    "                            mode='w', \n",
    "                            driver=src.driver, \n",
    "                            width=src.width, \n",
    "                            height=src.height, \n",
    "                            count=1, \n",
    "                            dtype='uint8', \n",
    "                            transform=src.transform,\n",
    "                            crs=src.crs) as dst:\n",
    "            dst.write_band(1, class_reshaped.astype(rasterio.uint8))\n",
    "\n",
    "        with rasterio.open(outfile_score_path,\n",
    "                            mode='w', \n",
    "                            driver=src.driver, \n",
    "                            width=src.width, \n",
    "                            height=src.height, \n",
    "                            count=len(model[1].classes_), \n",
    "                            dtype='uint8', \n",
    "                            transform=src.transform,\n",
    "                            crs=src.crs) as dst:\n",
    "            for id, layer in enumerate(model[1].classes_, start=1):\n",
    "                dst.set_band_description(id, 'Class id: {}'.format(model[1].classes_[id-1]))\n",
    "            dst.write(np.around(proba_reshaped*100, decimals=0).astype(rasterio.uint8))"
   ]
  },
  {
   "cell_type": "markdown",
   "metadata": {},
   "source": [
    "## Run Processing "
   ]
  },
  {
   "cell_type": "code",
   "execution_count": null,
   "metadata": {},
   "outputs": [],
   "source": [
    "flist = glob.glob(r'K:\\127_HotSpotOptimizer\\hot_spot_classifier\\data_inference\\*.tif')"
   ]
  },
  {
   "cell_type": "code",
   "execution_count": null,
   "metadata": {},
   "outputs": [],
   "source": [
    "flist[:]"
   ]
  },
  {
   "cell_type": "code",
   "execution_count": null,
   "metadata": {},
   "outputs": [],
   "source": [
    "for f in flist[:]:\n",
    "    outfile_prediction = os.path.join(os.path.dirname(f), os.path.basename(f)[:-4] + '_classified.tif')\n",
    "    outfile_score = os.path.join(os.path.dirname(f), os.path.basename(f)[:-4] + '_score.tif')\n",
    "    pred = run_inference_v2(MODEL, f, outfile_prediction, outfile_score)"
   ]
  },
  {
   "cell_type": "code",
   "execution_count": null,
   "metadata": {},
   "outputs": [],
   "source": []
  }
 ],
 "metadata": {
  "kernelspec": {
   "display_name": "Python 3",
   "language": "python",
   "name": "python3"
  },
  "language_info": {
   "codemirror_mode": {
    "name": "ipython",
    "version": 3
   },
   "file_extension": ".py",
   "mimetype": "text/x-python",
   "name": "python",
   "nbconvert_exporter": "python",
   "pygments_lexer": "ipython3",
   "version": "3.7.7"
  }
 },
 "nbformat": 4,
 "nbformat_minor": 4
}

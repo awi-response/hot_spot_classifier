{
 "cells": [
  {
   "cell_type": "markdown",
   "metadata": {},
   "source": [
    "# Script for running Machine-Learning models for Detecting Hot Spots\n",
    "## Part 2 Inference\n",
    "\n",
    "#### Requirements\n",
    "* matplotlib\n",
    "* numpy\n",
    "* pandas\n",
    "* pycaret\n",
    "* rasterio"
   ]
  },
  {
   "cell_type": "code",
   "execution_count": 25,
   "metadata": {},
   "outputs": [],
   "source": [
    "import glob\n",
    "import matplotlib.pyplot as plt\n",
    "import numpy as np\n",
    "import os\n",
    "import pandas as pd\n",
    "\n",
    "import pycaret\n",
    "import pycaret.classification as cl\n",
    "\n",
    "import rasterio"
   ]
  },
  {
   "cell_type": "markdown",
   "metadata": {},
   "source": [
    "#### Settings "
   ]
  },
  {
   "cell_type": "code",
   "execution_count": 2,
   "metadata": {},
   "outputs": [],
   "source": [
    "MODEL = '../models/2020-10-30_catBoost_tuned_model'"
   ]
  },
  {
   "cell_type": "code",
   "execution_count": null,
   "metadata": {},
   "outputs": [],
   "source": [
    "DATA = '../data_inference/Inference_Baldwin.tif'\n",
    "DATA_OUTPUT = '../data_inference/Inference_Baldwin_classified.tif'"
   ]
  },
  {
   "cell_type": "code",
   "execution_count": 17,
   "metadata": {},
   "outputs": [],
   "source": [
    "DATA = '../data_inference/Yana/Inference_Yana-0000006400-0000019200-016.tif'\n",
    "DATA_OUTPUT = '../data_inference/Yana/Inference_Yana-0000006400-0000019200-016_classified.tif'"
   ]
  },
  {
   "cell_type": "markdown",
   "metadata": {},
   "source": [
    "#### Model Loading "
   ]
  },
  {
   "cell_type": "code",
   "execution_count": 18,
   "metadata": {},
   "outputs": [
    {
     "name": "stdout",
     "output_type": "stream",
     "text": [
      "Transformation Pipeline and Model Sucessfully Loaded\n"
     ]
    }
   ],
   "source": [
    "model = cl.load_model(MODEL)"
   ]
  },
  {
   "cell_type": "markdown",
   "metadata": {},
   "source": [
    "### Data Loading \n",
    "Load raster data and reorder"
   ]
  },
  {
   "cell_type": "code",
   "execution_count": 19,
   "metadata": {},
   "outputs": [],
   "source": [
    "with rasterio.open(DATA) as src:\n",
    "    columns = src.descriptions\n",
    "    data = src.read()"
   ]
  },
  {
   "cell_type": "code",
   "execution_count": 20,
   "metadata": {},
   "outputs": [
    {
     "data": {
      "text/plain": [
       "(27, 6400, 6400)"
      ]
     },
     "execution_count": 20,
     "metadata": {},
     "output_type": "execute_result"
    }
   ],
   "source": [
    "data.shape"
   ]
  },
  {
   "cell_type": "markdown",
   "metadata": {},
   "source": [
    "### Data Analysis - Prediction "
   ]
  },
  {
   "cell_type": "code",
   "execution_count": 21,
   "metadata": {},
   "outputs": [],
   "source": [
    "data_reshaped = pd.DataFrame(data.reshape(27, -1).T, columns=columns)"
   ]
  },
  {
   "cell_type": "code",
   "execution_count": 22,
   "metadata": {},
   "outputs": [],
   "source": [
    "prediction = cl.predict_model(model, data_reshaped)['Label'].values.reshape(*data.shape[1:])"
   ]
  },
  {
   "cell_type": "markdown",
   "metadata": {},
   "source": [
    "### Data Export "
   ]
  },
  {
   "cell_type": "code",
   "execution_count": 23,
   "metadata": {},
   "outputs": [],
   "source": [
    "with rasterio.open(DATA) as src:\n",
    "    with rasterio.open(DATA_OUTPUT, mode='w', \n",
    "                    driver=src.driver, \n",
    "                    width=src.width, \n",
    "                    height=src.height, \n",
    "                    count=1, \n",
    "                    dtype='uint8', \n",
    "                    transform=src.transform,\n",
    "                    crs=src.crs) as dst:\n",
    "        dst.write_band(1, np.array(prediction, dtype=np.uint8))"
   ]
  },
  {
   "cell_type": "markdown",
   "metadata": {},
   "source": [
    "### Visualization"
   ]
  },
  {
   "cell_type": "code",
   "execution_count": null,
   "metadata": {},
   "outputs": [],
   "source": [
    "plt.imshow(prediction)"
   ]
  },
  {
   "cell_type": "code",
   "execution_count": null,
   "metadata": {},
   "outputs": [],
   "source": [
    "plt.imshow(prediction==15)"
   ]
  },
  {
   "cell_type": "code",
   "execution_count": null,
   "metadata": {},
   "outputs": [],
   "source": []
  },
  {
   "cell_type": "markdown",
   "metadata": {},
   "source": [
    "### Automation"
   ]
  },
  {
   "cell_type": "code",
   "execution_count": 44,
   "metadata": {},
   "outputs": [],
   "source": [
    "flist = glob.glob(r'K:\\127_HotSpotOptimizer\\hot_spot_classifier\\data_inference\\*.tif')"
   ]
  },
  {
   "cell_type": "code",
   "execution_count": 45,
   "metadata": {},
   "outputs": [
    {
     "data": {
      "text/plain": [
       "['K:\\\\127_HotSpotOptimizer\\\\hot_spot_classifier\\\\data_inference\\\\Inference_160W60N-0000000000-0000000000-005.tif',\n",
       " 'K:\\\\127_HotSpotOptimizer\\\\hot_spot_classifier\\\\data_inference\\\\Inference_160W60N-0000000000-0000006400-006.tif',\n",
       " 'K:\\\\127_HotSpotOptimizer\\\\hot_spot_classifier\\\\data_inference\\\\Inference_160W60N-0000000000-0000012800-004.tif',\n",
       " 'K:\\\\127_HotSpotOptimizer\\\\hot_spot_classifier\\\\data_inference\\\\Inference_160W60N-0000006400-0000000000-002.tif',\n",
       " 'K:\\\\127_HotSpotOptimizer\\\\hot_spot_classifier\\\\data_inference\\\\Inference_160W60N-0000006400-0000006400-003.tif',\n",
       " 'K:\\\\127_HotSpotOptimizer\\\\hot_spot_classifier\\\\data_inference\\\\Inference_160W60N-0000006400-0000012800.tif',\n",
       " 'K:\\\\127_HotSpotOptimizer\\\\hot_spot_classifier\\\\data_inference\\\\Inference_Yana-0000000000-0000000000.tif',\n",
       " 'K:\\\\127_HotSpotOptimizer\\\\hot_spot_classifier\\\\data_inference\\\\Inference_Yana-0000000000-0000006400.tif',\n",
       " 'K:\\\\127_HotSpotOptimizer\\\\hot_spot_classifier\\\\data_inference\\\\Inference_Yana-0000000000-0000012800.tif',\n",
       " 'K:\\\\127_HotSpotOptimizer\\\\hot_spot_classifier\\\\data_inference\\\\Inference_Yana-0000000000-0000019200.tif',\n",
       " 'K:\\\\127_HotSpotOptimizer\\\\hot_spot_classifier\\\\data_inference\\\\Inference_Yana-0000000000-0000032000.tif',\n",
       " 'K:\\\\127_HotSpotOptimizer\\\\hot_spot_classifier\\\\data_inference\\\\Inference_Yana-0000000000-0000038400.tif',\n",
       " 'K:\\\\127_HotSpotOptimizer\\\\hot_spot_classifier\\\\data_inference\\\\Inference_Yana-0000000000-0000044800.tif',\n",
       " 'K:\\\\127_HotSpotOptimizer\\\\hot_spot_classifier\\\\data_inference\\\\Inference_Yana-0000006400-0000000000.tif',\n",
       " 'K:\\\\127_HotSpotOptimizer\\\\hot_spot_classifier\\\\data_inference\\\\Inference_Yana-0000006400-0000006400.tif',\n",
       " 'K:\\\\127_HotSpotOptimizer\\\\hot_spot_classifier\\\\data_inference\\\\Inference_Yana-0000006400-0000025600-015.tif',\n",
       " 'K:\\\\127_HotSpotOptimizer\\\\hot_spot_classifier\\\\data_inference\\\\Inference_Yana-0000006400-0000038400.tif',\n",
       " 'K:\\\\127_HotSpotOptimizer\\\\hot_spot_classifier\\\\data_inference\\\\Inference_Yana-0000006400-0000044800.tif',\n",
       " 'K:\\\\127_HotSpotOptimizer\\\\hot_spot_classifier\\\\data_inference\\\\Inference_Yana-0000012800-0000000000-011.tif',\n",
       " 'K:\\\\127_HotSpotOptimizer\\\\hot_spot_classifier\\\\data_inference\\\\Inference_Yana-0000012800-0000006400-022.tif',\n",
       " 'K:\\\\127_HotSpotOptimizer\\\\hot_spot_classifier\\\\data_inference\\\\Inference_Yana-0000012800-0000012800-018.tif',\n",
       " 'K:\\\\127_HotSpotOptimizer\\\\hot_spot_classifier\\\\data_inference\\\\Inference_Yana-0000012800-0000025600-020.tif',\n",
       " 'K:\\\\127_HotSpotOptimizer\\\\hot_spot_classifier\\\\data_inference\\\\Inference_Yana-0000012800-0000032000-021.tif',\n",
       " 'K:\\\\127_HotSpotOptimizer\\\\hot_spot_classifier\\\\data_inference\\\\Inference_Yana-0000012800-0000044800.tif',\n",
       " 'K:\\\\127_HotSpotOptimizer\\\\hot_spot_classifier\\\\data_inference\\\\Inference_Yana-0000019200-0000000000.tif',\n",
       " 'K:\\\\127_HotSpotOptimizer\\\\hot_spot_classifier\\\\data_inference\\\\Inference_Yana-0000019200-0000012800-017.tif',\n",
       " 'K:\\\\127_HotSpotOptimizer\\\\hot_spot_classifier\\\\data_inference\\\\Inference_Yana-0000019200-0000019200-019.tif',\n",
       " 'K:\\\\127_HotSpotOptimizer\\\\hot_spot_classifier\\\\data_inference\\\\Inference_Yana-0000019200-0000044800.tif',\n",
       " 'K:\\\\127_HotSpotOptimizer\\\\hot_spot_classifier\\\\data_inference\\\\Inference_Yana-0000025600-0000000000.tif',\n",
       " 'K:\\\\127_HotSpotOptimizer\\\\hot_spot_classifier\\\\data_inference\\\\Inference_Yana-0000025600-0000006400.tif',\n",
       " 'K:\\\\127_HotSpotOptimizer\\\\hot_spot_classifier\\\\data_inference\\\\Inference_Yana-0000025600-0000012800.tif',\n",
       " 'K:\\\\127_HotSpotOptimizer\\\\hot_spot_classifier\\\\data_inference\\\\Inference_Yana-0000025600-0000019200.tif',\n",
       " 'K:\\\\127_HotSpotOptimizer\\\\hot_spot_classifier\\\\data_inference\\\\Inference_Yana-0000025600-0000025600.tif',\n",
       " 'K:\\\\127_HotSpotOptimizer\\\\hot_spot_classifier\\\\data_inference\\\\Inference_Yana-0000025600-0000032000.tif',\n",
       " 'K:\\\\127_HotSpotOptimizer\\\\hot_spot_classifier\\\\data_inference\\\\Inference_Yana-0000025600-0000038400.tif',\n",
       " 'K:\\\\127_HotSpotOptimizer\\\\hot_spot_classifier\\\\data_inference\\\\Inference_Yana-0000025600-0000044800.tif']"
      ]
     },
     "execution_count": 45,
     "metadata": {},
     "output_type": "execute_result"
    }
   ],
   "source": [
    "flist"
   ]
  },
  {
   "cell_type": "code",
   "execution_count": null,
   "metadata": {},
   "outputs": [],
   "source": [
    "for f in flist:\n",
    "    outfile = os.path.join(os.path.dirname(f), os.path.basename(f)[:-4] + '_classified.tif')\n",
    "    run_inference(MODEL, f, outfile)"
   ]
  },
  {
   "cell_type": "code",
   "execution_count": 46,
   "metadata": {},
   "outputs": [],
   "source": [
    "def run_inference(model_path, infile_path, outfile_path):\n",
    "    print(\"Processing dataset input:\", infile_path)\n",
    "    print(\"Processing dataset output:\", outfile_path)\n",
    "    \n",
    "    model = cl.load_model(model_path)\n",
    "    \n",
    "    with rasterio.open(infile_path) as src:\n",
    "        columns = src.descriptions\n",
    "        data = src.read()\n",
    "    data_reshaped = pd.DataFrame(data.reshape(27, -1).T, columns=columns)\n",
    "    \n",
    "    prediction = cl.predict_model(model, data_reshaped)['Label'].values.reshape(*data.shape[1:])\n",
    "    \n",
    "    with rasterio.open(infile_path) as src:\n",
    "        with rasterio.open(outfile_path, \n",
    "                            mode='w', \n",
    "                            driver=src.driver, \n",
    "                            width=src.width, \n",
    "                            height=src.height, \n",
    "                            count=1, \n",
    "                            dtype='uint8', \n",
    "                            transform=src.transform,\n",
    "                            crs=src.crs) as dst:\n",
    "            dst.write_band(1, np.array(prediction, dtype=np.uint8))"
   ]
  },
  {
   "cell_type": "code",
   "execution_count": null,
   "metadata": {},
   "outputs": [],
   "source": []
  }
 ],
 "metadata": {
  "kernelspec": {
   "display_name": "Python 3",
   "language": "python",
   "name": "python3"
  },
  "language_info": {
   "codemirror_mode": {
    "name": "ipython",
    "version": 3
   },
   "file_extension": ".py",
   "mimetype": "text/x-python",
   "name": "python",
   "nbconvert_exporter": "python",
   "pygments_lexer": "ipython3",
   "version": "3.7.7"
  }
 },
 "nbformat": 4,
 "nbformat_minor": 4
}

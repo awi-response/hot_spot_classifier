{
 "cells": [
  {
   "cell_type": "markdown",
   "metadata": {},
   "source": [
    "### Script for running Machine-Learning models for Detecting Hot Spots\n",
    "\n",
    "#### Requirements\n",
    "* pandas\n",
    "* pycaret 2.2"
   ]
  },
  {
   "cell_type": "code",
   "execution_count": 1,
   "metadata": {},
   "outputs": [],
   "source": [
    "import pandas as pd\n",
    "\n",
    "import pycaret\n",
    "import pycaret.classification as cl\n",
    "\n",
    "import os"
   ]
  },
  {
   "cell_type": "markdown",
   "metadata": {},
   "source": [
    "#### Settings "
   ]
  },
  {
   "cell_type": "code",
   "execution_count": 2,
   "metadata": {},
   "outputs": [],
   "source": [
    "INDATA = r'../data_ground_truth/GTv3_extracted_27Bands.csv'\n",
    "DROPCOLS = ['system:index', '.geo']\n",
    "LABEL = 'L4'"
   ]
  },
  {
   "cell_type": "markdown",
   "metadata": {},
   "source": [
    "#### Data Loading "
   ]
  },
  {
   "cell_type": "code",
   "execution_count": 3,
   "metadata": {},
   "outputs": [
    {
     "data": {
      "text/plain": [
       "True"
      ]
     },
     "execution_count": 3,
     "metadata": {},
     "output_type": "execute_result"
    }
   ],
   "source": [
    "os.path.exists(INDATA)"
   ]
  },
  {
   "cell_type": "code",
   "execution_count": 4,
   "metadata": {},
   "outputs": [],
   "source": [
    "df = pd.read_csv(INDATA).drop(columns=DROPCOLS)"
   ]
  },
  {
   "cell_type": "code",
   "execution_count": 5,
   "metadata": {},
   "outputs": [
    {
     "data": {
      "text/plain": [
       "Index(['DEM_slope', 'L4', 'NDMI_max', 'NDMI_mean', 'NDMI_min', 'NDMI_slope',\n",
       "       'NDMI_stdDev', 'NDVI_max', 'NDVI_mean', 'NDVI_min', 'NDVI_slope',\n",
       "       'NDVI_stdDev', 'Relative_elevation_100', 'TCB_max', 'TCB_mean',\n",
       "       'TCB_min', 'TCB_slope', 'TCB_stdDev', 'TCG_max', 'TCG_mean', 'TCG_min',\n",
       "       'TCG_slope', 'TCG_stdDev', 'TCW_max', 'TCW_mean', 'TCW_min',\n",
       "       'TCW_slope', 'TCW_stdDev'],\n",
       "      dtype='object')"
      ]
     },
     "execution_count": 5,
     "metadata": {},
     "output_type": "execute_result"
    }
   ],
   "source": [
    "df.columns"
   ]
  },
  {
   "cell_type": "markdown",
   "metadata": {},
   "source": [
    "## Data Analysis "
   ]
  },
  {
   "cell_type": "markdown",
   "metadata": {},
   "source": [
    "#### Data Splitting "
   ]
  },
  {
   "cell_type": "code",
   "execution_count": 6,
   "metadata": {},
   "outputs": [],
   "source": [
    "#data_train = df"
   ]
  },
  {
   "cell_type": "markdown",
   "metadata": {},
   "source": [
    "#### Data definition and preprocessing "
   ]
  },
  {
   "cell_type": "code",
   "execution_count": 7,
   "metadata": {},
   "outputs": [
    {
     "ename": "TypeError",
     "evalue": "setup() got an unexpected keyword argument 'n_jobs'",
     "output_type": "error",
     "traceback": [
      "\u001b[1;31m---------------------------------------------------------------------------\u001b[0m",
      "\u001b[1;31mTypeError\u001b[0m                                 Traceback (most recent call last)",
      "\u001b[1;32m<ipython-input-7-1ce1df823b85>\u001b[0m in \u001b[0;36m<module>\u001b[1;34m\u001b[0m\n\u001b[0;32m      6\u001b[0m                   \u001b[0mmulticollinearity_threshold\u001b[0m \u001b[1;33m=\u001b[0m \u001b[1;36m0.95\u001b[0m\u001b[1;33m,\u001b[0m\u001b[1;33m\u001b[0m\u001b[1;33m\u001b[0m\u001b[0m\n\u001b[0;32m      7\u001b[0m                   \u001b[0mprofile\u001b[0m\u001b[1;33m=\u001b[0m\u001b[1;32mTrue\u001b[0m\u001b[1;33m,\u001b[0m\u001b[1;33m\u001b[0m\u001b[1;33m\u001b[0m\u001b[0m\n\u001b[1;32m----> 8\u001b[1;33m                   \u001b[0mn_jobs\u001b[0m\u001b[1;33m=\u001b[0m\u001b[1;33m-\u001b[0m\u001b[1;36m1\u001b[0m\u001b[1;33m,\u001b[0m\u001b[1;33m\u001b[0m\u001b[1;33m\u001b[0m\u001b[0m\n\u001b[0m\u001b[0;32m      9\u001b[0m                   ) \n",
      "\u001b[1;31mTypeError\u001b[0m: setup() got an unexpected keyword argument 'n_jobs'"
     ]
    }
   ],
   "source": [
    "exp_clf102 = cl.setup(data = df, target = LABEL, session_id=123,\n",
    "                  normalize = True, \n",
    "                  transformation = True, \n",
    "                  ignore_low_variance = True,\n",
    "                  remove_multicollinearity = True, \n",
    "                  multicollinearity_threshold = 0.95,\n",
    "                  profile=True,\n",
    "                  n_jobs=-1,    \n",
    "                  ) "
   ]
  },
  {
   "cell_type": "code",
   "execution_count": 8,
   "metadata": {},
   "outputs": [
    {
     "data": {
      "text/html": [
       "<style  type=\"text/css\" >\n",
       "    #T_a5d933d2_1dbc_11eb_a91c_6805ca61c6b9 th {\n",
       "          text-align: left;\n",
       "    }#T_a5d933d2_1dbc_11eb_a91c_6805ca61c6b9row0_col0,#T_a5d933d2_1dbc_11eb_a91c_6805ca61c6b9row0_col3,#T_a5d933d2_1dbc_11eb_a91c_6805ca61c6b9row1_col0,#T_a5d933d2_1dbc_11eb_a91c_6805ca61c6b9row1_col2,#T_a5d933d2_1dbc_11eb_a91c_6805ca61c6b9row1_col3,#T_a5d933d2_1dbc_11eb_a91c_6805ca61c6b9row1_col5,#T_a5d933d2_1dbc_11eb_a91c_6805ca61c6b9row1_col6,#T_a5d933d2_1dbc_11eb_a91c_6805ca61c6b9row2_col0,#T_a5d933d2_1dbc_11eb_a91c_6805ca61c6b9row2_col1,#T_a5d933d2_1dbc_11eb_a91c_6805ca61c6b9row2_col3,#T_a5d933d2_1dbc_11eb_a91c_6805ca61c6b9row2_col4,#T_a5d933d2_1dbc_11eb_a91c_6805ca61c6b9row2_col5,#T_a5d933d2_1dbc_11eb_a91c_6805ca61c6b9row2_col6,#T_a5d933d2_1dbc_11eb_a91c_6805ca61c6b9row2_col7,#T_a5d933d2_1dbc_11eb_a91c_6805ca61c6b9row3_col0,#T_a5d933d2_1dbc_11eb_a91c_6805ca61c6b9row3_col1,#T_a5d933d2_1dbc_11eb_a91c_6805ca61c6b9row3_col2,#T_a5d933d2_1dbc_11eb_a91c_6805ca61c6b9row3_col3,#T_a5d933d2_1dbc_11eb_a91c_6805ca61c6b9row3_col4,#T_a5d933d2_1dbc_11eb_a91c_6805ca61c6b9row3_col5,#T_a5d933d2_1dbc_11eb_a91c_6805ca61c6b9row3_col6,#T_a5d933d2_1dbc_11eb_a91c_6805ca61c6b9row3_col7,#T_a5d933d2_1dbc_11eb_a91c_6805ca61c6b9row4_col0,#T_a5d933d2_1dbc_11eb_a91c_6805ca61c6b9row4_col1,#T_a5d933d2_1dbc_11eb_a91c_6805ca61c6b9row4_col2,#T_a5d933d2_1dbc_11eb_a91c_6805ca61c6b9row4_col4,#T_a5d933d2_1dbc_11eb_a91c_6805ca61c6b9row4_col5,#T_a5d933d2_1dbc_11eb_a91c_6805ca61c6b9row4_col6,#T_a5d933d2_1dbc_11eb_a91c_6805ca61c6b9row4_col7,#T_a5d933d2_1dbc_11eb_a91c_6805ca61c6b9row5_col0,#T_a5d933d2_1dbc_11eb_a91c_6805ca61c6b9row5_col1,#T_a5d933d2_1dbc_11eb_a91c_6805ca61c6b9row5_col2,#T_a5d933d2_1dbc_11eb_a91c_6805ca61c6b9row5_col3,#T_a5d933d2_1dbc_11eb_a91c_6805ca61c6b9row5_col4,#T_a5d933d2_1dbc_11eb_a91c_6805ca61c6b9row5_col5,#T_a5d933d2_1dbc_11eb_a91c_6805ca61c6b9row5_col6,#T_a5d933d2_1dbc_11eb_a91c_6805ca61c6b9row5_col7,#T_a5d933d2_1dbc_11eb_a91c_6805ca61c6b9row6_col0,#T_a5d933d2_1dbc_11eb_a91c_6805ca61c6b9row6_col1,#T_a5d933d2_1dbc_11eb_a91c_6805ca61c6b9row6_col2,#T_a5d933d2_1dbc_11eb_a91c_6805ca61c6b9row6_col3,#T_a5d933d2_1dbc_11eb_a91c_6805ca61c6b9row6_col4,#T_a5d933d2_1dbc_11eb_a91c_6805ca61c6b9row6_col5,#T_a5d933d2_1dbc_11eb_a91c_6805ca61c6b9row6_col6,#T_a5d933d2_1dbc_11eb_a91c_6805ca61c6b9row6_col7,#T_a5d933d2_1dbc_11eb_a91c_6805ca61c6b9row7_col0,#T_a5d933d2_1dbc_11eb_a91c_6805ca61c6b9row7_col1,#T_a5d933d2_1dbc_11eb_a91c_6805ca61c6b9row7_col2,#T_a5d933d2_1dbc_11eb_a91c_6805ca61c6b9row7_col3,#T_a5d933d2_1dbc_11eb_a91c_6805ca61c6b9row7_col4,#T_a5d933d2_1dbc_11eb_a91c_6805ca61c6b9row7_col5,#T_a5d933d2_1dbc_11eb_a91c_6805ca61c6b9row7_col6,#T_a5d933d2_1dbc_11eb_a91c_6805ca61c6b9row7_col7,#T_a5d933d2_1dbc_11eb_a91c_6805ca61c6b9row8_col0,#T_a5d933d2_1dbc_11eb_a91c_6805ca61c6b9row8_col1,#T_a5d933d2_1dbc_11eb_a91c_6805ca61c6b9row8_col2,#T_a5d933d2_1dbc_11eb_a91c_6805ca61c6b9row8_col3,#T_a5d933d2_1dbc_11eb_a91c_6805ca61c6b9row8_col4,#T_a5d933d2_1dbc_11eb_a91c_6805ca61c6b9row8_col5,#T_a5d933d2_1dbc_11eb_a91c_6805ca61c6b9row8_col6,#T_a5d933d2_1dbc_11eb_a91c_6805ca61c6b9row8_col7,#T_a5d933d2_1dbc_11eb_a91c_6805ca61c6b9row9_col0,#T_a5d933d2_1dbc_11eb_a91c_6805ca61c6b9row9_col1,#T_a5d933d2_1dbc_11eb_a91c_6805ca61c6b9row9_col2,#T_a5d933d2_1dbc_11eb_a91c_6805ca61c6b9row9_col3,#T_a5d933d2_1dbc_11eb_a91c_6805ca61c6b9row9_col4,#T_a5d933d2_1dbc_11eb_a91c_6805ca61c6b9row9_col5,#T_a5d933d2_1dbc_11eb_a91c_6805ca61c6b9row9_col6,#T_a5d933d2_1dbc_11eb_a91c_6805ca61c6b9row9_col7,#T_a5d933d2_1dbc_11eb_a91c_6805ca61c6b9row10_col0,#T_a5d933d2_1dbc_11eb_a91c_6805ca61c6b9row10_col1,#T_a5d933d2_1dbc_11eb_a91c_6805ca61c6b9row10_col2,#T_a5d933d2_1dbc_11eb_a91c_6805ca61c6b9row10_col3,#T_a5d933d2_1dbc_11eb_a91c_6805ca61c6b9row10_col4,#T_a5d933d2_1dbc_11eb_a91c_6805ca61c6b9row10_col5,#T_a5d933d2_1dbc_11eb_a91c_6805ca61c6b9row10_col6,#T_a5d933d2_1dbc_11eb_a91c_6805ca61c6b9row10_col7,#T_a5d933d2_1dbc_11eb_a91c_6805ca61c6b9row11_col0,#T_a5d933d2_1dbc_11eb_a91c_6805ca61c6b9row11_col1,#T_a5d933d2_1dbc_11eb_a91c_6805ca61c6b9row11_col2,#T_a5d933d2_1dbc_11eb_a91c_6805ca61c6b9row11_col3,#T_a5d933d2_1dbc_11eb_a91c_6805ca61c6b9row11_col4,#T_a5d933d2_1dbc_11eb_a91c_6805ca61c6b9row11_col5,#T_a5d933d2_1dbc_11eb_a91c_6805ca61c6b9row11_col6,#T_a5d933d2_1dbc_11eb_a91c_6805ca61c6b9row11_col7,#T_a5d933d2_1dbc_11eb_a91c_6805ca61c6b9row12_col0,#T_a5d933d2_1dbc_11eb_a91c_6805ca61c6b9row12_col1,#T_a5d933d2_1dbc_11eb_a91c_6805ca61c6b9row12_col2,#T_a5d933d2_1dbc_11eb_a91c_6805ca61c6b9row12_col3,#T_a5d933d2_1dbc_11eb_a91c_6805ca61c6b9row12_col4,#T_a5d933d2_1dbc_11eb_a91c_6805ca61c6b9row12_col5,#T_a5d933d2_1dbc_11eb_a91c_6805ca61c6b9row12_col6,#T_a5d933d2_1dbc_11eb_a91c_6805ca61c6b9row12_col7,#T_a5d933d2_1dbc_11eb_a91c_6805ca61c6b9row13_col0,#T_a5d933d2_1dbc_11eb_a91c_6805ca61c6b9row13_col1,#T_a5d933d2_1dbc_11eb_a91c_6805ca61c6b9row13_col2,#T_a5d933d2_1dbc_11eb_a91c_6805ca61c6b9row13_col3,#T_a5d933d2_1dbc_11eb_a91c_6805ca61c6b9row13_col4,#T_a5d933d2_1dbc_11eb_a91c_6805ca61c6b9row13_col5,#T_a5d933d2_1dbc_11eb_a91c_6805ca61c6b9row13_col6,#T_a5d933d2_1dbc_11eb_a91c_6805ca61c6b9row13_col7{\n",
       "            text-align:  left;\n",
       "            text-align:  left;\n",
       "        }#T_a5d933d2_1dbc_11eb_a91c_6805ca61c6b9row0_col1,#T_a5d933d2_1dbc_11eb_a91c_6805ca61c6b9row0_col2,#T_a5d933d2_1dbc_11eb_a91c_6805ca61c6b9row0_col4,#T_a5d933d2_1dbc_11eb_a91c_6805ca61c6b9row0_col5,#T_a5d933d2_1dbc_11eb_a91c_6805ca61c6b9row0_col6,#T_a5d933d2_1dbc_11eb_a91c_6805ca61c6b9row0_col7,#T_a5d933d2_1dbc_11eb_a91c_6805ca61c6b9row1_col1,#T_a5d933d2_1dbc_11eb_a91c_6805ca61c6b9row1_col4,#T_a5d933d2_1dbc_11eb_a91c_6805ca61c6b9row1_col7,#T_a5d933d2_1dbc_11eb_a91c_6805ca61c6b9row2_col2,#T_a5d933d2_1dbc_11eb_a91c_6805ca61c6b9row4_col3{\n",
       "            text-align:  left;\n",
       "            text-align:  left;\n",
       "            background-color:  yellow;\n",
       "        }#T_a5d933d2_1dbc_11eb_a91c_6805ca61c6b9row0_col8,#T_a5d933d2_1dbc_11eb_a91c_6805ca61c6b9row1_col8,#T_a5d933d2_1dbc_11eb_a91c_6805ca61c6b9row2_col8,#T_a5d933d2_1dbc_11eb_a91c_6805ca61c6b9row3_col8,#T_a5d933d2_1dbc_11eb_a91c_6805ca61c6b9row4_col8,#T_a5d933d2_1dbc_11eb_a91c_6805ca61c6b9row5_col8,#T_a5d933d2_1dbc_11eb_a91c_6805ca61c6b9row6_col8,#T_a5d933d2_1dbc_11eb_a91c_6805ca61c6b9row7_col8,#T_a5d933d2_1dbc_11eb_a91c_6805ca61c6b9row8_col8,#T_a5d933d2_1dbc_11eb_a91c_6805ca61c6b9row9_col8,#T_a5d933d2_1dbc_11eb_a91c_6805ca61c6b9row11_col8,#T_a5d933d2_1dbc_11eb_a91c_6805ca61c6b9row12_col8,#T_a5d933d2_1dbc_11eb_a91c_6805ca61c6b9row13_col8{\n",
       "            text-align:  left;\n",
       "            text-align:  left;\n",
       "            background-color:  lightgrey;\n",
       "        }#T_a5d933d2_1dbc_11eb_a91c_6805ca61c6b9row10_col8{\n",
       "            text-align:  left;\n",
       "            text-align:  left;\n",
       "            background-color:  yellow;\n",
       "            background-color:  lightgrey;\n",
       "        }</style><table id=\"T_a5d933d2_1dbc_11eb_a91c_6805ca61c6b9\" ><thead>    <tr>        <th class=\"blank level0\" ></th>        <th class=\"col_heading level0 col0\" >Model</th>        <th class=\"col_heading level0 col1\" >Accuracy</th>        <th class=\"col_heading level0 col2\" >AUC</th>        <th class=\"col_heading level0 col3\" >Recall</th>        <th class=\"col_heading level0 col4\" >Prec.</th>        <th class=\"col_heading level0 col5\" >F1</th>        <th class=\"col_heading level0 col6\" >Kappa</th>        <th class=\"col_heading level0 col7\" >MCC</th>        <th class=\"col_heading level0 col8\" >TT (Sec)</th>    </tr></thead><tbody>\n",
       "                <tr>\n",
       "                        <th id=\"T_a5d933d2_1dbc_11eb_a91c_6805ca61c6b9level0_row0\" class=\"row_heading level0 row0\" >lightgbm</th>\n",
       "                        <td id=\"T_a5d933d2_1dbc_11eb_a91c_6805ca61c6b9row0_col0\" class=\"data row0 col0\" >Light Gradient Boosting Machine</td>\n",
       "                        <td id=\"T_a5d933d2_1dbc_11eb_a91c_6805ca61c6b9row0_col1\" class=\"data row0 col1\" >0.9442</td>\n",
       "                        <td id=\"T_a5d933d2_1dbc_11eb_a91c_6805ca61c6b9row0_col2\" class=\"data row0 col2\" >0.9958</td>\n",
       "                        <td id=\"T_a5d933d2_1dbc_11eb_a91c_6805ca61c6b9row0_col3\" class=\"data row0 col3\" >0.9166</td>\n",
       "                        <td id=\"T_a5d933d2_1dbc_11eb_a91c_6805ca61c6b9row0_col4\" class=\"data row0 col4\" >0.9482</td>\n",
       "                        <td id=\"T_a5d933d2_1dbc_11eb_a91c_6805ca61c6b9row0_col5\" class=\"data row0 col5\" >0.9431</td>\n",
       "                        <td id=\"T_a5d933d2_1dbc_11eb_a91c_6805ca61c6b9row0_col6\" class=\"data row0 col6\" >0.9295</td>\n",
       "                        <td id=\"T_a5d933d2_1dbc_11eb_a91c_6805ca61c6b9row0_col7\" class=\"data row0 col7\" >0.9304</td>\n",
       "                        <td id=\"T_a5d933d2_1dbc_11eb_a91c_6805ca61c6b9row0_col8\" class=\"data row0 col8\" >0.1770</td>\n",
       "            </tr>\n",
       "            <tr>\n",
       "                        <th id=\"T_a5d933d2_1dbc_11eb_a91c_6805ca61c6b9level0_row1\" class=\"row_heading level0 row1\" >lr</th>\n",
       "                        <td id=\"T_a5d933d2_1dbc_11eb_a91c_6805ca61c6b9row1_col0\" class=\"data row1 col0\" >Logistic Regression</td>\n",
       "                        <td id=\"T_a5d933d2_1dbc_11eb_a91c_6805ca61c6b9row1_col1\" class=\"data row1 col1\" >0.9442</td>\n",
       "                        <td id=\"T_a5d933d2_1dbc_11eb_a91c_6805ca61c6b9row1_col2\" class=\"data row1 col2\" >0.9920</td>\n",
       "                        <td id=\"T_a5d933d2_1dbc_11eb_a91c_6805ca61c6b9row1_col3\" class=\"data row1 col3\" >0.9195</td>\n",
       "                        <td id=\"T_a5d933d2_1dbc_11eb_a91c_6805ca61c6b9row1_col4\" class=\"data row1 col4\" >0.9482</td>\n",
       "                        <td id=\"T_a5d933d2_1dbc_11eb_a91c_6805ca61c6b9row1_col5\" class=\"data row1 col5\" >0.9429</td>\n",
       "                        <td id=\"T_a5d933d2_1dbc_11eb_a91c_6805ca61c6b9row1_col6\" class=\"data row1 col6\" >0.9293</td>\n",
       "                        <td id=\"T_a5d933d2_1dbc_11eb_a91c_6805ca61c6b9row1_col7\" class=\"data row1 col7\" >0.9304</td>\n",
       "                        <td id=\"T_a5d933d2_1dbc_11eb_a91c_6805ca61c6b9row1_col8\" class=\"data row1 col8\" >0.2070</td>\n",
       "            </tr>\n",
       "            <tr>\n",
       "                        <th id=\"T_a5d933d2_1dbc_11eb_a91c_6805ca61c6b9level0_row2\" class=\"row_heading level0 row2\" >et</th>\n",
       "                        <td id=\"T_a5d933d2_1dbc_11eb_a91c_6805ca61c6b9row2_col0\" class=\"data row2 col0\" >Extra Trees Classifier</td>\n",
       "                        <td id=\"T_a5d933d2_1dbc_11eb_a91c_6805ca61c6b9row2_col1\" class=\"data row2 col1\" >0.9419</td>\n",
       "                        <td id=\"T_a5d933d2_1dbc_11eb_a91c_6805ca61c6b9row2_col2\" class=\"data row2 col2\" >0.9958</td>\n",
       "                        <td id=\"T_a5d933d2_1dbc_11eb_a91c_6805ca61c6b9row2_col3\" class=\"data row2 col3\" >0.9177</td>\n",
       "                        <td id=\"T_a5d933d2_1dbc_11eb_a91c_6805ca61c6b9row2_col4\" class=\"data row2 col4\" >0.9418</td>\n",
       "                        <td id=\"T_a5d933d2_1dbc_11eb_a91c_6805ca61c6b9row2_col5\" class=\"data row2 col5\" >0.9389</td>\n",
       "                        <td id=\"T_a5d933d2_1dbc_11eb_a91c_6805ca61c6b9row2_col6\" class=\"data row2 col6\" >0.9263</td>\n",
       "                        <td id=\"T_a5d933d2_1dbc_11eb_a91c_6805ca61c6b9row2_col7\" class=\"data row2 col7\" >0.9276</td>\n",
       "                        <td id=\"T_a5d933d2_1dbc_11eb_a91c_6805ca61c6b9row2_col8\" class=\"data row2 col8\" >0.1250</td>\n",
       "            </tr>\n",
       "            <tr>\n",
       "                        <th id=\"T_a5d933d2_1dbc_11eb_a91c_6805ca61c6b9level0_row3\" class=\"row_heading level0 row3\" >xgboost</th>\n",
       "                        <td id=\"T_a5d933d2_1dbc_11eb_a91c_6805ca61c6b9row3_col0\" class=\"data row3 col0\" >Extreme Gradient Boosting</td>\n",
       "                        <td id=\"T_a5d933d2_1dbc_11eb_a91c_6805ca61c6b9row3_col1\" class=\"data row3 col1\" >0.9396</td>\n",
       "                        <td id=\"T_a5d933d2_1dbc_11eb_a91c_6805ca61c6b9row3_col2\" class=\"data row3 col2\" >0.9945</td>\n",
       "                        <td id=\"T_a5d933d2_1dbc_11eb_a91c_6805ca61c6b9row3_col3\" class=\"data row3 col3\" >0.9050</td>\n",
       "                        <td id=\"T_a5d933d2_1dbc_11eb_a91c_6805ca61c6b9row3_col4\" class=\"data row3 col4\" >0.9442</td>\n",
       "                        <td id=\"T_a5d933d2_1dbc_11eb_a91c_6805ca61c6b9row3_col5\" class=\"data row3 col5\" >0.9382</td>\n",
       "                        <td id=\"T_a5d933d2_1dbc_11eb_a91c_6805ca61c6b9row3_col6\" class=\"data row3 col6\" >0.9237</td>\n",
       "                        <td id=\"T_a5d933d2_1dbc_11eb_a91c_6805ca61c6b9row3_col7\" class=\"data row3 col7\" >0.9248</td>\n",
       "                        <td id=\"T_a5d933d2_1dbc_11eb_a91c_6805ca61c6b9row3_col8\" class=\"data row3 col8\" >0.1880</td>\n",
       "            </tr>\n",
       "            <tr>\n",
       "                        <th id=\"T_a5d933d2_1dbc_11eb_a91c_6805ca61c6b9level0_row4\" class=\"row_heading level0 row4\" >knn</th>\n",
       "                        <td id=\"T_a5d933d2_1dbc_11eb_a91c_6805ca61c6b9row4_col0\" class=\"data row4 col0\" >K Neighbors Classifier</td>\n",
       "                        <td id=\"T_a5d933d2_1dbc_11eb_a91c_6805ca61c6b9row4_col1\" class=\"data row4 col1\" >0.9396</td>\n",
       "                        <td id=\"T_a5d933d2_1dbc_11eb_a91c_6805ca61c6b9row4_col2\" class=\"data row4 col2\" >0.9849</td>\n",
       "                        <td id=\"T_a5d933d2_1dbc_11eb_a91c_6805ca61c6b9row4_col3\" class=\"data row4 col3\" >0.9201</td>\n",
       "                        <td id=\"T_a5d933d2_1dbc_11eb_a91c_6805ca61c6b9row4_col4\" class=\"data row4 col4\" >0.9446</td>\n",
       "                        <td id=\"T_a5d933d2_1dbc_11eb_a91c_6805ca61c6b9row4_col5\" class=\"data row4 col5\" >0.9381</td>\n",
       "                        <td id=\"T_a5d933d2_1dbc_11eb_a91c_6805ca61c6b9row4_col6\" class=\"data row4 col6\" >0.9236</td>\n",
       "                        <td id=\"T_a5d933d2_1dbc_11eb_a91c_6805ca61c6b9row4_col7\" class=\"data row4 col7\" >0.9250</td>\n",
       "                        <td id=\"T_a5d933d2_1dbc_11eb_a91c_6805ca61c6b9row4_col8\" class=\"data row4 col8\" >0.1950</td>\n",
       "            </tr>\n",
       "            <tr>\n",
       "                        <th id=\"T_a5d933d2_1dbc_11eb_a91c_6805ca61c6b9level0_row5\" class=\"row_heading level0 row5\" >rf</th>\n",
       "                        <td id=\"T_a5d933d2_1dbc_11eb_a91c_6805ca61c6b9row5_col0\" class=\"data row5 col0\" >Random Forest Classifier</td>\n",
       "                        <td id=\"T_a5d933d2_1dbc_11eb_a91c_6805ca61c6b9row5_col1\" class=\"data row5 col1\" >0.9362</td>\n",
       "                        <td id=\"T_a5d933d2_1dbc_11eb_a91c_6805ca61c6b9row5_col2\" class=\"data row5 col2\" >0.9948</td>\n",
       "                        <td id=\"T_a5d933d2_1dbc_11eb_a91c_6805ca61c6b9row5_col3\" class=\"data row5 col3\" >0.9088</td>\n",
       "                        <td id=\"T_a5d933d2_1dbc_11eb_a91c_6805ca61c6b9row5_col4\" class=\"data row5 col4\" >0.9394</td>\n",
       "                        <td id=\"T_a5d933d2_1dbc_11eb_a91c_6805ca61c6b9row5_col5\" class=\"data row5 col5\" >0.9345</td>\n",
       "                        <td id=\"T_a5d933d2_1dbc_11eb_a91c_6805ca61c6b9row5_col6\" class=\"data row5 col6\" >0.9192</td>\n",
       "                        <td id=\"T_a5d933d2_1dbc_11eb_a91c_6805ca61c6b9row5_col7\" class=\"data row5 col7\" >0.9202</td>\n",
       "                        <td id=\"T_a5d933d2_1dbc_11eb_a91c_6805ca61c6b9row5_col8\" class=\"data row5 col8\" >0.1400</td>\n",
       "            </tr>\n",
       "            <tr>\n",
       "                        <th id=\"T_a5d933d2_1dbc_11eb_a91c_6805ca61c6b9level0_row6\" class=\"row_heading level0 row6\" >gbc</th>\n",
       "                        <td id=\"T_a5d933d2_1dbc_11eb_a91c_6805ca61c6b9row6_col0\" class=\"data row6 col0\" >Gradient Boosting Classifier</td>\n",
       "                        <td id=\"T_a5d933d2_1dbc_11eb_a91c_6805ca61c6b9row6_col1\" class=\"data row6 col1\" >0.9362</td>\n",
       "                        <td id=\"T_a5d933d2_1dbc_11eb_a91c_6805ca61c6b9row6_col2\" class=\"data row6 col2\" >0.9948</td>\n",
       "                        <td id=\"T_a5d933d2_1dbc_11eb_a91c_6805ca61c6b9row6_col3\" class=\"data row6 col3\" >0.8877</td>\n",
       "                        <td id=\"T_a5d933d2_1dbc_11eb_a91c_6805ca61c6b9row6_col4\" class=\"data row6 col4\" >0.9415</td>\n",
       "                        <td id=\"T_a5d933d2_1dbc_11eb_a91c_6805ca61c6b9row6_col5\" class=\"data row6 col5\" >0.9342</td>\n",
       "                        <td id=\"T_a5d933d2_1dbc_11eb_a91c_6805ca61c6b9row6_col6\" class=\"data row6 col6\" >0.9192</td>\n",
       "                        <td id=\"T_a5d933d2_1dbc_11eb_a91c_6805ca61c6b9row6_col7\" class=\"data row6 col7\" >0.9202</td>\n",
       "                        <td id=\"T_a5d933d2_1dbc_11eb_a91c_6805ca61c6b9row6_col8\" class=\"data row6 col8\" >0.5030</td>\n",
       "            </tr>\n",
       "            <tr>\n",
       "                        <th id=\"T_a5d933d2_1dbc_11eb_a91c_6805ca61c6b9level0_row7\" class=\"row_heading level0 row7\" >svm</th>\n",
       "                        <td id=\"T_a5d933d2_1dbc_11eb_a91c_6805ca61c6b9row7_col0\" class=\"data row7 col0\" >SVM - Linear Kernel</td>\n",
       "                        <td id=\"T_a5d933d2_1dbc_11eb_a91c_6805ca61c6b9row7_col1\" class=\"data row7 col1\" >0.9271</td>\n",
       "                        <td id=\"T_a5d933d2_1dbc_11eb_a91c_6805ca61c6b9row7_col2\" class=\"data row7 col2\" >0.0000</td>\n",
       "                        <td id=\"T_a5d933d2_1dbc_11eb_a91c_6805ca61c6b9row7_col3\" class=\"data row7 col3\" >0.8963</td>\n",
       "                        <td id=\"T_a5d933d2_1dbc_11eb_a91c_6805ca61c6b9row7_col4\" class=\"data row7 col4\" >0.9314</td>\n",
       "                        <td id=\"T_a5d933d2_1dbc_11eb_a91c_6805ca61c6b9row7_col5\" class=\"data row7 col5\" >0.9250</td>\n",
       "                        <td id=\"T_a5d933d2_1dbc_11eb_a91c_6805ca61c6b9row7_col6\" class=\"data row7 col6\" >0.9076</td>\n",
       "                        <td id=\"T_a5d933d2_1dbc_11eb_a91c_6805ca61c6b9row7_col7\" class=\"data row7 col7\" >0.9091</td>\n",
       "                        <td id=\"T_a5d933d2_1dbc_11eb_a91c_6805ca61c6b9row7_col8\" class=\"data row7 col8\" >0.1750</td>\n",
       "            </tr>\n",
       "            <tr>\n",
       "                        <th id=\"T_a5d933d2_1dbc_11eb_a91c_6805ca61c6b9level0_row8\" class=\"row_heading level0 row8\" >qda</th>\n",
       "                        <td id=\"T_a5d933d2_1dbc_11eb_a91c_6805ca61c6b9row8_col0\" class=\"data row8 col0\" >Quadratic Discriminant Analysis</td>\n",
       "                        <td id=\"T_a5d933d2_1dbc_11eb_a91c_6805ca61c6b9row8_col1\" class=\"data row8 col1\" >0.9237</td>\n",
       "                        <td id=\"T_a5d933d2_1dbc_11eb_a91c_6805ca61c6b9row8_col2\" class=\"data row8 col2\" >0.9869</td>\n",
       "                        <td id=\"T_a5d933d2_1dbc_11eb_a91c_6805ca61c6b9row8_col3\" class=\"data row8 col3\" >0.8652</td>\n",
       "                        <td id=\"T_a5d933d2_1dbc_11eb_a91c_6805ca61c6b9row8_col4\" class=\"data row8 col4\" >0.9222</td>\n",
       "                        <td id=\"T_a5d933d2_1dbc_11eb_a91c_6805ca61c6b9row8_col5\" class=\"data row8 col5\" >0.9170</td>\n",
       "                        <td id=\"T_a5d933d2_1dbc_11eb_a91c_6805ca61c6b9row8_col6\" class=\"data row8 col6\" >0.9036</td>\n",
       "                        <td id=\"T_a5d933d2_1dbc_11eb_a91c_6805ca61c6b9row8_col7\" class=\"data row8 col7\" >0.9049</td>\n",
       "                        <td id=\"T_a5d933d2_1dbc_11eb_a91c_6805ca61c6b9row8_col8\" class=\"data row8 col8\" >0.0100</td>\n",
       "            </tr>\n",
       "            <tr>\n",
       "                        <th id=\"T_a5d933d2_1dbc_11eb_a91c_6805ca61c6b9level0_row9\" class=\"row_heading level0 row9\" >lda</th>\n",
       "                        <td id=\"T_a5d933d2_1dbc_11eb_a91c_6805ca61c6b9row9_col0\" class=\"data row9 col0\" >Linear Discriminant Analysis</td>\n",
       "                        <td id=\"T_a5d933d2_1dbc_11eb_a91c_6805ca61c6b9row9_col1\" class=\"data row9 col1\" >0.9179</td>\n",
       "                        <td id=\"T_a5d933d2_1dbc_11eb_a91c_6805ca61c6b9row9_col2\" class=\"data row9 col2\" >0.9875</td>\n",
       "                        <td id=\"T_a5d933d2_1dbc_11eb_a91c_6805ca61c6b9row9_col3\" class=\"data row9 col3\" >0.8903</td>\n",
       "                        <td id=\"T_a5d933d2_1dbc_11eb_a91c_6805ca61c6b9row9_col4\" class=\"data row9 col4\" >0.9231</td>\n",
       "                        <td id=\"T_a5d933d2_1dbc_11eb_a91c_6805ca61c6b9row9_col5\" class=\"data row9 col5\" >0.9170</td>\n",
       "                        <td id=\"T_a5d933d2_1dbc_11eb_a91c_6805ca61c6b9row9_col6\" class=\"data row9 col6\" >0.8959</td>\n",
       "                        <td id=\"T_a5d933d2_1dbc_11eb_a91c_6805ca61c6b9row9_col7\" class=\"data row9 col7\" >0.8973</td>\n",
       "                        <td id=\"T_a5d933d2_1dbc_11eb_a91c_6805ca61c6b9row9_col8\" class=\"data row9 col8\" >0.0100</td>\n",
       "            </tr>\n",
       "            <tr>\n",
       "                        <th id=\"T_a5d933d2_1dbc_11eb_a91c_6805ca61c6b9level0_row10\" class=\"row_heading level0 row10\" >ridge</th>\n",
       "                        <td id=\"T_a5d933d2_1dbc_11eb_a91c_6805ca61c6b9row10_col0\" class=\"data row10 col0\" >Ridge Classifier</td>\n",
       "                        <td id=\"T_a5d933d2_1dbc_11eb_a91c_6805ca61c6b9row10_col1\" class=\"data row10 col1\" >0.9065</td>\n",
       "                        <td id=\"T_a5d933d2_1dbc_11eb_a91c_6805ca61c6b9row10_col2\" class=\"data row10 col2\" >0.0000</td>\n",
       "                        <td id=\"T_a5d933d2_1dbc_11eb_a91c_6805ca61c6b9row10_col3\" class=\"data row10 col3\" >0.8543</td>\n",
       "                        <td id=\"T_a5d933d2_1dbc_11eb_a91c_6805ca61c6b9row10_col4\" class=\"data row10 col4\" >0.9150</td>\n",
       "                        <td id=\"T_a5d933d2_1dbc_11eb_a91c_6805ca61c6b9row10_col5\" class=\"data row10 col5\" >0.9018</td>\n",
       "                        <td id=\"T_a5d933d2_1dbc_11eb_a91c_6805ca61c6b9row10_col6\" class=\"data row10 col6\" >0.8804</td>\n",
       "                        <td id=\"T_a5d933d2_1dbc_11eb_a91c_6805ca61c6b9row10_col7\" class=\"data row10 col7\" >0.8842</td>\n",
       "                        <td id=\"T_a5d933d2_1dbc_11eb_a91c_6805ca61c6b9row10_col8\" class=\"data row10 col8\" >0.0070</td>\n",
       "            </tr>\n",
       "            <tr>\n",
       "                        <th id=\"T_a5d933d2_1dbc_11eb_a91c_6805ca61c6b9level0_row11\" class=\"row_heading level0 row11\" >nb</th>\n",
       "                        <td id=\"T_a5d933d2_1dbc_11eb_a91c_6805ca61c6b9row11_col0\" class=\"data row11 col0\" >Naive Bayes</td>\n",
       "                        <td id=\"T_a5d933d2_1dbc_11eb_a91c_6805ca61c6b9row11_col1\" class=\"data row11 col1\" >0.8951</td>\n",
       "                        <td id=\"T_a5d933d2_1dbc_11eb_a91c_6805ca61c6b9row11_col2\" class=\"data row11 col2\" >0.9873</td>\n",
       "                        <td id=\"T_a5d933d2_1dbc_11eb_a91c_6805ca61c6b9row11_col3\" class=\"data row11 col3\" >0.8780</td>\n",
       "                        <td id=\"T_a5d933d2_1dbc_11eb_a91c_6805ca61c6b9row11_col4\" class=\"data row11 col4\" >0.9036</td>\n",
       "                        <td id=\"T_a5d933d2_1dbc_11eb_a91c_6805ca61c6b9row11_col5\" class=\"data row11 col5\" >0.8953</td>\n",
       "                        <td id=\"T_a5d933d2_1dbc_11eb_a91c_6805ca61c6b9row11_col6\" class=\"data row11 col6\" >0.8681</td>\n",
       "                        <td id=\"T_a5d933d2_1dbc_11eb_a91c_6805ca61c6b9row11_col7\" class=\"data row11 col7\" >0.8693</td>\n",
       "                        <td id=\"T_a5d933d2_1dbc_11eb_a91c_6805ca61c6b9row11_col8\" class=\"data row11 col8\" >0.1660</td>\n",
       "            </tr>\n",
       "            <tr>\n",
       "                        <th id=\"T_a5d933d2_1dbc_11eb_a91c_6805ca61c6b9level0_row12\" class=\"row_heading level0 row12\" >dt</th>\n",
       "                        <td id=\"T_a5d933d2_1dbc_11eb_a91c_6805ca61c6b9row12_col0\" class=\"data row12 col0\" >Decision Tree Classifier</td>\n",
       "                        <td id=\"T_a5d933d2_1dbc_11eb_a91c_6805ca61c6b9row12_col1\" class=\"data row12 col1\" >0.8837</td>\n",
       "                        <td id=\"T_a5d933d2_1dbc_11eb_a91c_6805ca61c6b9row12_col2\" class=\"data row12 col2\" >0.9268</td>\n",
       "                        <td id=\"T_a5d933d2_1dbc_11eb_a91c_6805ca61c6b9row12_col3\" class=\"data row12 col3\" >0.8371</td>\n",
       "                        <td id=\"T_a5d933d2_1dbc_11eb_a91c_6805ca61c6b9row12_col4\" class=\"data row12 col4\" >0.8870</td>\n",
       "                        <td id=\"T_a5d933d2_1dbc_11eb_a91c_6805ca61c6b9row12_col5\" class=\"data row12 col5\" >0.8811</td>\n",
       "                        <td id=\"T_a5d933d2_1dbc_11eb_a91c_6805ca61c6b9row12_col6\" class=\"data row12 col6\" >0.8532</td>\n",
       "                        <td id=\"T_a5d933d2_1dbc_11eb_a91c_6805ca61c6b9row12_col7\" class=\"data row12 col7\" >0.8543</td>\n",
       "                        <td id=\"T_a5d933d2_1dbc_11eb_a91c_6805ca61c6b9row12_col8\" class=\"data row12 col8\" >0.1630</td>\n",
       "            </tr>\n",
       "            <tr>\n",
       "                        <th id=\"T_a5d933d2_1dbc_11eb_a91c_6805ca61c6b9level0_row13\" class=\"row_heading level0 row13\" >ada</th>\n",
       "                        <td id=\"T_a5d933d2_1dbc_11eb_a91c_6805ca61c6b9row13_col0\" class=\"data row13 col0\" >Ada Boost Classifier</td>\n",
       "                        <td id=\"T_a5d933d2_1dbc_11eb_a91c_6805ca61c6b9row13_col1\" class=\"data row13 col1\" >0.6911</td>\n",
       "                        <td id=\"T_a5d933d2_1dbc_11eb_a91c_6805ca61c6b9row13_col2\" class=\"data row13 col2\" >0.8191</td>\n",
       "                        <td id=\"T_a5d933d2_1dbc_11eb_a91c_6805ca61c6b9row13_col3\" class=\"data row13 col3\" >0.5116</td>\n",
       "                        <td id=\"T_a5d933d2_1dbc_11eb_a91c_6805ca61c6b9row13_col4\" class=\"data row13 col4\" >0.5938</td>\n",
       "                        <td id=\"T_a5d933d2_1dbc_11eb_a91c_6805ca61c6b9row13_col5\" class=\"data row13 col5\" >0.6099</td>\n",
       "                        <td id=\"T_a5d933d2_1dbc_11eb_a91c_6805ca61c6b9row13_col6\" class=\"data row13 col6\" >0.5857</td>\n",
       "                        <td id=\"T_a5d933d2_1dbc_11eb_a91c_6805ca61c6b9row13_col7\" class=\"data row13 col7\" >0.6418</td>\n",
       "                        <td id=\"T_a5d933d2_1dbc_11eb_a91c_6805ca61c6b9row13_col8\" class=\"data row13 col8\" >0.0380</td>\n",
       "            </tr>\n",
       "    </tbody></table>"
      ],
      "text/plain": [
       "<pandas.io.formats.style.Styler at 0x161db483b88>"
      ]
     },
     "metadata": {},
     "output_type": "display_data"
    },
    {
     "data": {
      "text/plain": [
       "LGBMClassifier(boosting_type='gbdt', class_weight=None, colsample_bytree=1.0,\n",
       "               importance_type='split', learning_rate=0.1, max_depth=-1,\n",
       "               min_child_samples=20, min_child_weight=0.001, min_split_gain=0.0,\n",
       "               n_estimators=100, n_jobs=-1, num_leaves=31, objective=None,\n",
       "               random_state=123, reg_alpha=0.0, reg_lambda=0.0, silent=True,\n",
       "               subsample=1.0, subsample_for_bin=200000, subsample_freq=0)"
      ]
     },
     "execution_count": 8,
     "metadata": {},
     "output_type": "execute_result"
    }
   ],
   "source": [
    "cl.compare_models(sort='F1', exclude=['catboost'])"
   ]
  },
  {
   "cell_type": "markdown",
   "metadata": {},
   "source": [
    "### Model Tuning "
   ]
  },
  {
   "cell_type": "markdown",
   "metadata": {},
   "source": [
    "#### ExtraTrees\n",
    "0 \tExtra Trees Classifier \t0.951900 \t0.000000 \t0.923400 \t0.956900 \t0.950600 \t0.939200"
   ]
  },
  {
   "cell_type": "code",
   "execution_count": 16,
   "metadata": {},
   "outputs": [
    {
     "data": {
      "application/vnd.jupyter.widget-view+json": {
       "model_id": "6a41324c6760456fabde8f617a0bd7b4",
       "version_major": 2,
       "version_minor": 0
      },
      "text/plain": [
       "IntProgress(value=0, description='Processing: ', max=4)"
      ]
     },
     "metadata": {},
     "output_type": "display_data"
    },
    {
     "data": {
      "text/html": [
       "<div>\n",
       "<style scoped>\n",
       "    .dataframe tbody tr th:only-of-type {\n",
       "        vertical-align: middle;\n",
       "    }\n",
       "\n",
       "    .dataframe tbody tr th {\n",
       "        vertical-align: top;\n",
       "    }\n",
       "\n",
       "    .dataframe thead th {\n",
       "        text-align: right;\n",
       "    }\n",
       "</style>\n",
       "<table border=\"1\" class=\"dataframe\">\n",
       "  <thead>\n",
       "    <tr style=\"text-align: right;\">\n",
       "      <th></th>\n",
       "      <th></th>\n",
       "      <th></th>\n",
       "    </tr>\n",
       "    <tr>\n",
       "      <th></th>\n",
       "      <th></th>\n",
       "      <th></th>\n",
       "    </tr>\n",
       "  </thead>\n",
       "  <tbody>\n",
       "    <tr>\n",
       "      <th>Initiated</th>\n",
       "      <td>. . . . . . . . . . . . . . . . . .</td>\n",
       "      <td>11:32:05</td>\n",
       "    </tr>\n",
       "    <tr>\n",
       "      <th>Status</th>\n",
       "      <td>. . . . . . . . . . . . . . . . . .</td>\n",
       "      <td>Selecting Estimator</td>\n",
       "    </tr>\n",
       "    <tr>\n",
       "      <th>Estimator</th>\n",
       "      <td>. . . . . . . . . . . . . . . . . .</td>\n",
       "      <td>Compiling Library</td>\n",
       "    </tr>\n",
       "  </tbody>\n",
       "</table>\n",
       "</div>"
      ],
      "text/plain": [
       "                                                                   \n",
       "                                                                   \n",
       "Initiated  . . . . . . . . . . . . . . . . . .             11:32:05\n",
       "Status     . . . . . . . . . . . . . . . . . .  Selecting Estimator\n",
       "Estimator  . . . . . . . . . . . . . . . . . .    Compiling Library"
      ]
     },
     "metadata": {},
     "output_type": "display_data"
    },
    {
     "data": {
      "text/html": [
       "<div>\n",
       "<style scoped>\n",
       "    .dataframe tbody tr th:only-of-type {\n",
       "        vertical-align: middle;\n",
       "    }\n",
       "\n",
       "    .dataframe tbody tr th {\n",
       "        vertical-align: top;\n",
       "    }\n",
       "\n",
       "    .dataframe thead th {\n",
       "        text-align: right;\n",
       "    }\n",
       "</style>\n",
       "<table border=\"1\" class=\"dataframe\">\n",
       "  <thead>\n",
       "    <tr style=\"text-align: right;\">\n",
       "      <th></th>\n",
       "      <th>Accuracy</th>\n",
       "      <th>AUC</th>\n",
       "      <th>Recall</th>\n",
       "      <th>Prec.</th>\n",
       "      <th>F1</th>\n",
       "      <th>Kappa</th>\n",
       "      <th>MCC</th>\n",
       "    </tr>\n",
       "  </thead>\n",
       "  <tbody>\n",
       "  </tbody>\n",
       "</table>\n",
       "</div>"
      ],
      "text/plain": [
       "Empty DataFrame\n",
       "Columns: [Accuracy, AUC, Recall, Prec., F1, Kappa, MCC]\n",
       "Index: []"
      ]
     },
     "metadata": {},
     "output_type": "display_data"
    },
    {
     "ename": "TypeError",
     "evalue": "__init__() got an unexpected keyword argument 'feature_importance'",
     "output_type": "error",
     "traceback": [
      "\u001b[1;31m---------------------------------------------------------------------------\u001b[0m",
      "\u001b[1;31mTypeError\u001b[0m                                 Traceback (most recent call last)",
      "\u001b[1;32m<ipython-input-16-a7220eba487d>\u001b[0m in \u001b[0;36m<module>\u001b[1;34m\u001b[0m\n\u001b[1;32m----> 1\u001b[1;33m \u001b[0met\u001b[0m \u001b[1;33m=\u001b[0m \u001b[0mcl\u001b[0m\u001b[1;33m.\u001b[0m\u001b[0mcreate_model\u001b[0m\u001b[1;33m(\u001b[0m\u001b[0mestimator\u001b[0m\u001b[1;33m=\u001b[0m\u001b[1;34m'et'\u001b[0m\u001b[1;33m,\u001b[0m \u001b[0mn_jobs\u001b[0m\u001b[1;33m=\u001b[0m\u001b[1;33m-\u001b[0m\u001b[1;36m1\u001b[0m\u001b[1;33m,\u001b[0m \u001b[0mn_estimators\u001b[0m\u001b[1;33m=\u001b[0m\u001b[1;36m100\u001b[0m\u001b[1;33m,\u001b[0m \u001b[0mfeature_importance\u001b[0m\u001b[1;33m=\u001b[0m\u001b[1;32mTrue\u001b[0m\u001b[1;33m)\u001b[0m\u001b[1;33m\u001b[0m\u001b[1;33m\u001b[0m\u001b[0m\n\u001b[0m",
      "\u001b[1;32m~\\AppData\\Local\\Continuum\\anaconda3\\envs\\pycaret2\\lib\\site-packages\\pycaret\\classification.py\u001b[0m in \u001b[0;36mcreate_model\u001b[1;34m(estimator, fold, round, cross_validation, fit_kwargs, groups, verbose, **kwargs)\u001b[0m\n\u001b[0;32m    888\u001b[0m         \u001b[0mgroups\u001b[0m\u001b[1;33m=\u001b[0m\u001b[0mgroups\u001b[0m\u001b[1;33m,\u001b[0m\u001b[1;33m\u001b[0m\u001b[1;33m\u001b[0m\u001b[0m\n\u001b[0;32m    889\u001b[0m         \u001b[0mverbose\u001b[0m\u001b[1;33m=\u001b[0m\u001b[0mverbose\u001b[0m\u001b[1;33m,\u001b[0m\u001b[1;33m\u001b[0m\u001b[1;33m\u001b[0m\u001b[0m\n\u001b[1;32m--> 890\u001b[1;33m         \u001b[1;33m**\u001b[0m\u001b[0mkwargs\u001b[0m\u001b[1;33m,\u001b[0m\u001b[1;33m\u001b[0m\u001b[1;33m\u001b[0m\u001b[0m\n\u001b[0m\u001b[0;32m    891\u001b[0m     )\n\u001b[0;32m    892\u001b[0m \u001b[1;33m\u001b[0m\u001b[0m\n",
      "\u001b[1;32m~\\AppData\\Local\\Continuum\\anaconda3\\envs\\pycaret2\\lib\\site-packages\\pycaret\\internal\\tabular.py\u001b[0m in \u001b[0;36mcreate_model_supervised\u001b[1;34m(estimator, fold, round, cross_validation, predict, fit_kwargs, groups, refit, verbose, system, X_train_data, y_train_data, metrics, display, **kwargs)\u001b[0m\n\u001b[0;32m   2948\u001b[0m         \u001b[0mmodel_args\u001b[0m \u001b[1;33m=\u001b[0m \u001b[0mmodel_definition\u001b[0m\u001b[1;33m.\u001b[0m\u001b[0margs\u001b[0m\u001b[1;33m\u001b[0m\u001b[1;33m\u001b[0m\u001b[0m\n\u001b[0;32m   2949\u001b[0m         \u001b[0mmodel_args\u001b[0m \u001b[1;33m=\u001b[0m \u001b[1;33m{\u001b[0m\u001b[1;33m**\u001b[0m\u001b[0mmodel_args\u001b[0m\u001b[1;33m,\u001b[0m \u001b[1;33m**\u001b[0m\u001b[0mkwargs\u001b[0m\u001b[1;33m}\u001b[0m\u001b[1;33m\u001b[0m\u001b[1;33m\u001b[0m\u001b[0m\n\u001b[1;32m-> 2950\u001b[1;33m         \u001b[0mmodel\u001b[0m \u001b[1;33m=\u001b[0m \u001b[0mmodel_definition\u001b[0m\u001b[1;33m.\u001b[0m\u001b[0mclass_def\u001b[0m\u001b[1;33m(\u001b[0m\u001b[1;33m**\u001b[0m\u001b[0mmodel_args\u001b[0m\u001b[1;33m)\u001b[0m\u001b[1;33m\u001b[0m\u001b[1;33m\u001b[0m\u001b[0m\n\u001b[0m\u001b[0;32m   2951\u001b[0m         \u001b[0mfull_name\u001b[0m \u001b[1;33m=\u001b[0m \u001b[0mmodel_definition\u001b[0m\u001b[1;33m.\u001b[0m\u001b[0mname\u001b[0m\u001b[1;33m\u001b[0m\u001b[1;33m\u001b[0m\u001b[0m\n\u001b[0;32m   2952\u001b[0m     \u001b[1;32melse\u001b[0m\u001b[1;33m:\u001b[0m\u001b[1;33m\u001b[0m\u001b[1;33m\u001b[0m\u001b[0m\n",
      "\u001b[1;32m~\\AppData\\Local\\Continuum\\anaconda3\\envs\\pycaret2\\lib\\site-packages\\sklearn\\utils\\validation.py\u001b[0m in \u001b[0;36minner_f\u001b[1;34m(*args, **kwargs)\u001b[0m\n\u001b[0;32m     70\u001b[0m                           FutureWarning)\n\u001b[0;32m     71\u001b[0m         \u001b[0mkwargs\u001b[0m\u001b[1;33m.\u001b[0m\u001b[0mupdate\u001b[0m\u001b[1;33m(\u001b[0m\u001b[1;33m{\u001b[0m\u001b[0mk\u001b[0m\u001b[1;33m:\u001b[0m \u001b[0marg\u001b[0m \u001b[1;32mfor\u001b[0m \u001b[0mk\u001b[0m\u001b[1;33m,\u001b[0m \u001b[0marg\u001b[0m \u001b[1;32min\u001b[0m \u001b[0mzip\u001b[0m\u001b[1;33m(\u001b[0m\u001b[0msig\u001b[0m\u001b[1;33m.\u001b[0m\u001b[0mparameters\u001b[0m\u001b[1;33m,\u001b[0m \u001b[0margs\u001b[0m\u001b[1;33m)\u001b[0m\u001b[1;33m}\u001b[0m\u001b[1;33m)\u001b[0m\u001b[1;33m\u001b[0m\u001b[1;33m\u001b[0m\u001b[0m\n\u001b[1;32m---> 72\u001b[1;33m         \u001b[1;32mreturn\u001b[0m \u001b[0mf\u001b[0m\u001b[1;33m(\u001b[0m\u001b[1;33m**\u001b[0m\u001b[0mkwargs\u001b[0m\u001b[1;33m)\u001b[0m\u001b[1;33m\u001b[0m\u001b[1;33m\u001b[0m\u001b[0m\n\u001b[0m\u001b[0;32m     73\u001b[0m     \u001b[1;32mreturn\u001b[0m \u001b[0minner_f\u001b[0m\u001b[1;33m\u001b[0m\u001b[1;33m\u001b[0m\u001b[0m\n\u001b[0;32m     74\u001b[0m \u001b[1;33m\u001b[0m\u001b[0m\n",
      "\u001b[1;31mTypeError\u001b[0m: __init__() got an unexpected keyword argument 'feature_importance'"
     ]
    }
   ],
   "source": [
    "et = cl.create_model(estimator='et', n_jobs=-1, n_estimators=100)"
   ]
  },
  {
   "cell_type": "code",
   "execution_count": 9,
   "metadata": {},
   "outputs": [
    {
     "data": {
      "text/html": [
       "<style  type=\"text/css\" >\n",
       "#T_78a1eab8_1dbf_11eb_a7ca_6805ca61c6b9row10_col0,#T_78a1eab8_1dbf_11eb_a7ca_6805ca61c6b9row10_col1,#T_78a1eab8_1dbf_11eb_a7ca_6805ca61c6b9row10_col2,#T_78a1eab8_1dbf_11eb_a7ca_6805ca61c6b9row10_col3,#T_78a1eab8_1dbf_11eb_a7ca_6805ca61c6b9row10_col4,#T_78a1eab8_1dbf_11eb_a7ca_6805ca61c6b9row10_col5,#T_78a1eab8_1dbf_11eb_a7ca_6805ca61c6b9row10_col6{\n",
       "            background:  yellow;\n",
       "        }</style><table id=\"T_78a1eab8_1dbf_11eb_a7ca_6805ca61c6b9\" ><thead>    <tr>        <th class=\"blank level0\" ></th>        <th class=\"col_heading level0 col0\" >Accuracy</th>        <th class=\"col_heading level0 col1\" >AUC</th>        <th class=\"col_heading level0 col2\" >Recall</th>        <th class=\"col_heading level0 col3\" >Prec.</th>        <th class=\"col_heading level0 col4\" >F1</th>        <th class=\"col_heading level0 col5\" >Kappa</th>        <th class=\"col_heading level0 col6\" >MCC</th>    </tr></thead><tbody>\n",
       "                <tr>\n",
       "                        <th id=\"T_78a1eab8_1dbf_11eb_a7ca_6805ca61c6b9level0_row0\" class=\"row_heading level0 row0\" >0</th>\n",
       "                        <td id=\"T_78a1eab8_1dbf_11eb_a7ca_6805ca61c6b9row0_col0\" class=\"data row0 col0\" >0.9432</td>\n",
       "                        <td id=\"T_78a1eab8_1dbf_11eb_a7ca_6805ca61c6b9row0_col1\" class=\"data row0 col1\" >0.9882</td>\n",
       "                        <td id=\"T_78a1eab8_1dbf_11eb_a7ca_6805ca61c6b9row0_col2\" class=\"data row0 col2\" >0.9608</td>\n",
       "                        <td id=\"T_78a1eab8_1dbf_11eb_a7ca_6805ca61c6b9row0_col3\" class=\"data row0 col3\" >0.9428</td>\n",
       "                        <td id=\"T_78a1eab8_1dbf_11eb_a7ca_6805ca61c6b9row0_col4\" class=\"data row0 col4\" >0.9419</td>\n",
       "                        <td id=\"T_78a1eab8_1dbf_11eb_a7ca_6805ca61c6b9row0_col5\" class=\"data row0 col5\" >0.9286</td>\n",
       "                        <td id=\"T_78a1eab8_1dbf_11eb_a7ca_6805ca61c6b9row0_col6\" class=\"data row0 col6\" >0.9290</td>\n",
       "            </tr>\n",
       "            <tr>\n",
       "                        <th id=\"T_78a1eab8_1dbf_11eb_a7ca_6805ca61c6b9level0_row1\" class=\"row_heading level0 row1\" >1</th>\n",
       "                        <td id=\"T_78a1eab8_1dbf_11eb_a7ca_6805ca61c6b9row1_col0\" class=\"data row1 col0\" >0.9205</td>\n",
       "                        <td id=\"T_78a1eab8_1dbf_11eb_a7ca_6805ca61c6b9row1_col1\" class=\"data row1 col1\" >0.9932</td>\n",
       "                        <td id=\"T_78a1eab8_1dbf_11eb_a7ca_6805ca61c6b9row1_col2\" class=\"data row1 col2\" >0.8955</td>\n",
       "                        <td id=\"T_78a1eab8_1dbf_11eb_a7ca_6805ca61c6b9row1_col3\" class=\"data row1 col3\" >0.9230</td>\n",
       "                        <td id=\"T_78a1eab8_1dbf_11eb_a7ca_6805ca61c6b9row1_col4\" class=\"data row1 col4\" >0.9184</td>\n",
       "                        <td id=\"T_78a1eab8_1dbf_11eb_a7ca_6805ca61c6b9row1_col5\" class=\"data row1 col5\" >0.8989</td>\n",
       "                        <td id=\"T_78a1eab8_1dbf_11eb_a7ca_6805ca61c6b9row1_col6\" class=\"data row1 col6\" >0.9001</td>\n",
       "            </tr>\n",
       "            <tr>\n",
       "                        <th id=\"T_78a1eab8_1dbf_11eb_a7ca_6805ca61c6b9level0_row2\" class=\"row_heading level0 row2\" >2</th>\n",
       "                        <td id=\"T_78a1eab8_1dbf_11eb_a7ca_6805ca61c6b9row2_col0\" class=\"data row2 col0\" >0.8864</td>\n",
       "                        <td id=\"T_78a1eab8_1dbf_11eb_a7ca_6805ca61c6b9row2_col1\" class=\"data row2 col1\" >0.9861</td>\n",
       "                        <td id=\"T_78a1eab8_1dbf_11eb_a7ca_6805ca61c6b9row2_col2\" class=\"data row2 col2\" >0.8252</td>\n",
       "                        <td id=\"T_78a1eab8_1dbf_11eb_a7ca_6805ca61c6b9row2_col3\" class=\"data row2 col3\" >0.8851</td>\n",
       "                        <td id=\"T_78a1eab8_1dbf_11eb_a7ca_6805ca61c6b9row2_col4\" class=\"data row2 col4\" >0.8843</td>\n",
       "                        <td id=\"T_78a1eab8_1dbf_11eb_a7ca_6805ca61c6b9row2_col5\" class=\"data row2 col5\" >0.8574</td>\n",
       "                        <td id=\"T_78a1eab8_1dbf_11eb_a7ca_6805ca61c6b9row2_col6\" class=\"data row2 col6\" >0.8576</td>\n",
       "            </tr>\n",
       "            <tr>\n",
       "                        <th id=\"T_78a1eab8_1dbf_11eb_a7ca_6805ca61c6b9level0_row3\" class=\"row_heading level0 row3\" >3</th>\n",
       "                        <td id=\"T_78a1eab8_1dbf_11eb_a7ca_6805ca61c6b9row3_col0\" class=\"data row3 col0\" >0.9205</td>\n",
       "                        <td id=\"T_78a1eab8_1dbf_11eb_a7ca_6805ca61c6b9row3_col1\" class=\"data row3 col1\" >0.9843</td>\n",
       "                        <td id=\"T_78a1eab8_1dbf_11eb_a7ca_6805ca61c6b9row3_col2\" class=\"data row3 col2\" >0.9020</td>\n",
       "                        <td id=\"T_78a1eab8_1dbf_11eb_a7ca_6805ca61c6b9row3_col3\" class=\"data row3 col3\" >0.9199</td>\n",
       "                        <td id=\"T_78a1eab8_1dbf_11eb_a7ca_6805ca61c6b9row3_col4\" class=\"data row3 col4\" >0.9199</td>\n",
       "                        <td id=\"T_78a1eab8_1dbf_11eb_a7ca_6805ca61c6b9row3_col5\" class=\"data row3 col5\" >0.8996</td>\n",
       "                        <td id=\"T_78a1eab8_1dbf_11eb_a7ca_6805ca61c6b9row3_col6\" class=\"data row3 col6\" >0.8997</td>\n",
       "            </tr>\n",
       "            <tr>\n",
       "                        <th id=\"T_78a1eab8_1dbf_11eb_a7ca_6805ca61c6b9level0_row4\" class=\"row_heading level0 row4\" >4</th>\n",
       "                        <td id=\"T_78a1eab8_1dbf_11eb_a7ca_6805ca61c6b9row4_col0\" class=\"data row4 col0\" >0.8864</td>\n",
       "                        <td id=\"T_78a1eab8_1dbf_11eb_a7ca_6805ca61c6b9row4_col1\" class=\"data row4 col1\" >0.9740</td>\n",
       "                        <td id=\"T_78a1eab8_1dbf_11eb_a7ca_6805ca61c6b9row4_col2\" class=\"data row4 col2\" >0.8831</td>\n",
       "                        <td id=\"T_78a1eab8_1dbf_11eb_a7ca_6805ca61c6b9row4_col3\" class=\"data row4 col3\" >0.8954</td>\n",
       "                        <td id=\"T_78a1eab8_1dbf_11eb_a7ca_6805ca61c6b9row4_col4\" class=\"data row4 col4\" >0.8814</td>\n",
       "                        <td id=\"T_78a1eab8_1dbf_11eb_a7ca_6805ca61c6b9row4_col5\" class=\"data row4 col5\" >0.8554</td>\n",
       "                        <td id=\"T_78a1eab8_1dbf_11eb_a7ca_6805ca61c6b9row4_col6\" class=\"data row4 col6\" >0.8600</td>\n",
       "            </tr>\n",
       "            <tr>\n",
       "                        <th id=\"T_78a1eab8_1dbf_11eb_a7ca_6805ca61c6b9level0_row5\" class=\"row_heading level0 row5\" >5</th>\n",
       "                        <td id=\"T_78a1eab8_1dbf_11eb_a7ca_6805ca61c6b9row5_col0\" class=\"data row5 col0\" >0.8977</td>\n",
       "                        <td id=\"T_78a1eab8_1dbf_11eb_a7ca_6805ca61c6b9row5_col1\" class=\"data row5 col1\" >0.9846</td>\n",
       "                        <td id=\"T_78a1eab8_1dbf_11eb_a7ca_6805ca61c6b9row5_col2\" class=\"data row5 col2\" >0.9337</td>\n",
       "                        <td id=\"T_78a1eab8_1dbf_11eb_a7ca_6805ca61c6b9row5_col3\" class=\"data row5 col3\" >0.9053</td>\n",
       "                        <td id=\"T_78a1eab8_1dbf_11eb_a7ca_6805ca61c6b9row5_col4\" class=\"data row5 col4\" >0.8991</td>\n",
       "                        <td id=\"T_78a1eab8_1dbf_11eb_a7ca_6805ca61c6b9row5_col5\" class=\"data row5 col5\" >0.8728</td>\n",
       "                        <td id=\"T_78a1eab8_1dbf_11eb_a7ca_6805ca61c6b9row5_col6\" class=\"data row5 col6\" >0.8738</td>\n",
       "            </tr>\n",
       "            <tr>\n",
       "                        <th id=\"T_78a1eab8_1dbf_11eb_a7ca_6805ca61c6b9level0_row6\" class=\"row_heading level0 row6\" >6</th>\n",
       "                        <td id=\"T_78a1eab8_1dbf_11eb_a7ca_6805ca61c6b9row6_col0\" class=\"data row6 col0\" >0.9318</td>\n",
       "                        <td id=\"T_78a1eab8_1dbf_11eb_a7ca_6805ca61c6b9row6_col1\" class=\"data row6 col1\" >0.9928</td>\n",
       "                        <td id=\"T_78a1eab8_1dbf_11eb_a7ca_6805ca61c6b9row6_col2\" class=\"data row6 col2\" >0.9306</td>\n",
       "                        <td id=\"T_78a1eab8_1dbf_11eb_a7ca_6805ca61c6b9row6_col3\" class=\"data row6 col3\" >0.9334</td>\n",
       "                        <td id=\"T_78a1eab8_1dbf_11eb_a7ca_6805ca61c6b9row6_col4\" class=\"data row6 col4\" >0.9312</td>\n",
       "                        <td id=\"T_78a1eab8_1dbf_11eb_a7ca_6805ca61c6b9row6_col5\" class=\"data row6 col5\" >0.9143</td>\n",
       "                        <td id=\"T_78a1eab8_1dbf_11eb_a7ca_6805ca61c6b9row6_col6\" class=\"data row6 col6\" >0.9148</td>\n",
       "            </tr>\n",
       "            <tr>\n",
       "                        <th id=\"T_78a1eab8_1dbf_11eb_a7ca_6805ca61c6b9level0_row7\" class=\"row_heading level0 row7\" >7</th>\n",
       "                        <td id=\"T_78a1eab8_1dbf_11eb_a7ca_6805ca61c6b9row7_col0\" class=\"data row7 col0\" >0.9310</td>\n",
       "                        <td id=\"T_78a1eab8_1dbf_11eb_a7ca_6805ca61c6b9row7_col1\" class=\"data row7 col1\" >0.9875</td>\n",
       "                        <td id=\"T_78a1eab8_1dbf_11eb_a7ca_6805ca61c6b9row7_col2\" class=\"data row7 col2\" >0.9255</td>\n",
       "                        <td id=\"T_78a1eab8_1dbf_11eb_a7ca_6805ca61c6b9row7_col3\" class=\"data row7 col3\" >0.9340</td>\n",
       "                        <td id=\"T_78a1eab8_1dbf_11eb_a7ca_6805ca61c6b9row7_col4\" class=\"data row7 col4\" >0.9299</td>\n",
       "                        <td id=\"T_78a1eab8_1dbf_11eb_a7ca_6805ca61c6b9row7_col5\" class=\"data row7 col5\" >0.9127</td>\n",
       "                        <td id=\"T_78a1eab8_1dbf_11eb_a7ca_6805ca61c6b9row7_col6\" class=\"data row7 col6\" >0.9138</td>\n",
       "            </tr>\n",
       "            <tr>\n",
       "                        <th id=\"T_78a1eab8_1dbf_11eb_a7ca_6805ca61c6b9level0_row8\" class=\"row_heading level0 row8\" >8</th>\n",
       "                        <td id=\"T_78a1eab8_1dbf_11eb_a7ca_6805ca61c6b9row8_col0\" class=\"data row8 col0\" >0.9195</td>\n",
       "                        <td id=\"T_78a1eab8_1dbf_11eb_a7ca_6805ca61c6b9row8_col1\" class=\"data row8 col1\" >0.9835</td>\n",
       "                        <td id=\"T_78a1eab8_1dbf_11eb_a7ca_6805ca61c6b9row8_col2\" class=\"data row8 col2\" >0.9431</td>\n",
       "                        <td id=\"T_78a1eab8_1dbf_11eb_a7ca_6805ca61c6b9row8_col3\" class=\"data row8 col3\" >0.9270</td>\n",
       "                        <td id=\"T_78a1eab8_1dbf_11eb_a7ca_6805ca61c6b9row8_col4\" class=\"data row8 col4\" >0.9211</td>\n",
       "                        <td id=\"T_78a1eab8_1dbf_11eb_a7ca_6805ca61c6b9row8_col5\" class=\"data row8 col5\" >0.8989</td>\n",
       "                        <td id=\"T_78a1eab8_1dbf_11eb_a7ca_6805ca61c6b9row8_col6\" class=\"data row8 col6\" >0.8993</td>\n",
       "            </tr>\n",
       "            <tr>\n",
       "                        <th id=\"T_78a1eab8_1dbf_11eb_a7ca_6805ca61c6b9level0_row9\" class=\"row_heading level0 row9\" >9</th>\n",
       "                        <td id=\"T_78a1eab8_1dbf_11eb_a7ca_6805ca61c6b9row9_col0\" class=\"data row9 col0\" >0.9425</td>\n",
       "                        <td id=\"T_78a1eab8_1dbf_11eb_a7ca_6805ca61c6b9row9_col1\" class=\"data row9 col1\" >0.9900</td>\n",
       "                        <td id=\"T_78a1eab8_1dbf_11eb_a7ca_6805ca61c6b9row9_col2\" class=\"data row9 col2\" >0.9572</td>\n",
       "                        <td id=\"T_78a1eab8_1dbf_11eb_a7ca_6805ca61c6b9row9_col3\" class=\"data row9 col3\" >0.9505</td>\n",
       "                        <td id=\"T_78a1eab8_1dbf_11eb_a7ca_6805ca61c6b9row9_col4\" class=\"data row9 col4\" >0.9435</td>\n",
       "                        <td id=\"T_78a1eab8_1dbf_11eb_a7ca_6805ca61c6b9row9_col5\" class=\"data row9 col5\" >0.9286</td>\n",
       "                        <td id=\"T_78a1eab8_1dbf_11eb_a7ca_6805ca61c6b9row9_col6\" class=\"data row9 col6\" >0.9296</td>\n",
       "            </tr>\n",
       "            <tr>\n",
       "                        <th id=\"T_78a1eab8_1dbf_11eb_a7ca_6805ca61c6b9level0_row10\" class=\"row_heading level0 row10\" >Mean</th>\n",
       "                        <td id=\"T_78a1eab8_1dbf_11eb_a7ca_6805ca61c6b9row10_col0\" class=\"data row10 col0\" >0.9179</td>\n",
       "                        <td id=\"T_78a1eab8_1dbf_11eb_a7ca_6805ca61c6b9row10_col1\" class=\"data row10 col1\" >0.9864</td>\n",
       "                        <td id=\"T_78a1eab8_1dbf_11eb_a7ca_6805ca61c6b9row10_col2\" class=\"data row10 col2\" >0.9157</td>\n",
       "                        <td id=\"T_78a1eab8_1dbf_11eb_a7ca_6805ca61c6b9row10_col3\" class=\"data row10 col3\" >0.9216</td>\n",
       "                        <td id=\"T_78a1eab8_1dbf_11eb_a7ca_6805ca61c6b9row10_col4\" class=\"data row10 col4\" >0.9171</td>\n",
       "                        <td id=\"T_78a1eab8_1dbf_11eb_a7ca_6805ca61c6b9row10_col5\" class=\"data row10 col5\" >0.8967</td>\n",
       "                        <td id=\"T_78a1eab8_1dbf_11eb_a7ca_6805ca61c6b9row10_col6\" class=\"data row10 col6\" >0.8978</td>\n",
       "            </tr>\n",
       "            <tr>\n",
       "                        <th id=\"T_78a1eab8_1dbf_11eb_a7ca_6805ca61c6b9level0_row11\" class=\"row_heading level0 row11\" >SD</th>\n",
       "                        <td id=\"T_78a1eab8_1dbf_11eb_a7ca_6805ca61c6b9row11_col0\" class=\"data row11 col0\" >0.0201</td>\n",
       "                        <td id=\"T_78a1eab8_1dbf_11eb_a7ca_6805ca61c6b9row11_col1\" class=\"data row11 col1\" >0.0052</td>\n",
       "                        <td id=\"T_78a1eab8_1dbf_11eb_a7ca_6805ca61c6b9row11_col2\" class=\"data row11 col2\" >0.0387</td>\n",
       "                        <td id=\"T_78a1eab8_1dbf_11eb_a7ca_6805ca61c6b9row11_col3\" class=\"data row11 col3\" >0.0197</td>\n",
       "                        <td id=\"T_78a1eab8_1dbf_11eb_a7ca_6805ca61c6b9row11_col4\" class=\"data row11 col4\" >0.0209</td>\n",
       "                        <td id=\"T_78a1eab8_1dbf_11eb_a7ca_6805ca61c6b9row11_col5\" class=\"data row11 col5\" >0.0254</td>\n",
       "                        <td id=\"T_78a1eab8_1dbf_11eb_a7ca_6805ca61c6b9row11_col6\" class=\"data row11 col6\" >0.0248</td>\n",
       "            </tr>\n",
       "    </tbody></table>"
      ],
      "text/plain": [
       "<pandas.io.formats.style.Styler at 0x1ec757b6e48>"
      ]
     },
     "metadata": {},
     "output_type": "display_data"
    }
   ],
   "source": [
    "tuned_et = cl.tune_model(et, fold=10, round=4, optimize='F1')"
   ]
  },
  {
   "cell_type": "markdown",
   "metadata": {},
   "source": [
    "### Plot model params and calibrate "
   ]
  },
  {
   "cell_type": "markdown",
   "metadata": {},
   "source": [
    "#### Calibrate model "
   ]
  },
  {
   "cell_type": "code",
   "execution_count": 10,
   "metadata": {},
   "outputs": [
    {
     "data": {
      "text/html": [
       "<style  type=\"text/css\" >\n",
       "#T_8335e974_1dbf_11eb_b0fb_6805ca61c6b9row10_col0,#T_8335e974_1dbf_11eb_b0fb_6805ca61c6b9row10_col1,#T_8335e974_1dbf_11eb_b0fb_6805ca61c6b9row10_col2,#T_8335e974_1dbf_11eb_b0fb_6805ca61c6b9row10_col3,#T_8335e974_1dbf_11eb_b0fb_6805ca61c6b9row10_col4,#T_8335e974_1dbf_11eb_b0fb_6805ca61c6b9row10_col5,#T_8335e974_1dbf_11eb_b0fb_6805ca61c6b9row10_col6{\n",
       "            background:  yellow;\n",
       "        }</style><table id=\"T_8335e974_1dbf_11eb_b0fb_6805ca61c6b9\" ><thead>    <tr>        <th class=\"blank level0\" ></th>        <th class=\"col_heading level0 col0\" >Accuracy</th>        <th class=\"col_heading level0 col1\" >AUC</th>        <th class=\"col_heading level0 col2\" >Recall</th>        <th class=\"col_heading level0 col3\" >Prec.</th>        <th class=\"col_heading level0 col4\" >F1</th>        <th class=\"col_heading level0 col5\" >Kappa</th>        <th class=\"col_heading level0 col6\" >MCC</th>    </tr></thead><tbody>\n",
       "                <tr>\n",
       "                        <th id=\"T_8335e974_1dbf_11eb_b0fb_6805ca61c6b9level0_row0\" class=\"row_heading level0 row0\" >0</th>\n",
       "                        <td id=\"T_8335e974_1dbf_11eb_b0fb_6805ca61c6b9row0_col0\" class=\"data row0 col0\" >0.9432</td>\n",
       "                        <td id=\"T_8335e974_1dbf_11eb_b0fb_6805ca61c6b9row0_col1\" class=\"data row0 col1\" >0.9944</td>\n",
       "                        <td id=\"T_8335e974_1dbf_11eb_b0fb_6805ca61c6b9row0_col2\" class=\"data row0 col2\" >0.9566</td>\n",
       "                        <td id=\"T_8335e974_1dbf_11eb_b0fb_6805ca61c6b9row0_col3\" class=\"data row0 col3\" >0.9435</td>\n",
       "                        <td id=\"T_8335e974_1dbf_11eb_b0fb_6805ca61c6b9row0_col4\" class=\"data row0 col4\" >0.9410</td>\n",
       "                        <td id=\"T_8335e974_1dbf_11eb_b0fb_6805ca61c6b9row0_col5\" class=\"data row0 col5\" >0.9283</td>\n",
       "                        <td id=\"T_8335e974_1dbf_11eb_b0fb_6805ca61c6b9row0_col6\" class=\"data row0 col6\" >0.9294</td>\n",
       "            </tr>\n",
       "            <tr>\n",
       "                        <th id=\"T_8335e974_1dbf_11eb_b0fb_6805ca61c6b9level0_row1\" class=\"row_heading level0 row1\" >1</th>\n",
       "                        <td id=\"T_8335e974_1dbf_11eb_b0fb_6805ca61c6b9row1_col0\" class=\"data row1 col0\" >0.9091</td>\n",
       "                        <td id=\"T_8335e974_1dbf_11eb_b0fb_6805ca61c6b9row1_col1\" class=\"data row1 col1\" >0.9952</td>\n",
       "                        <td id=\"T_8335e974_1dbf_11eb_b0fb_6805ca61c6b9row1_col2\" class=\"data row1 col2\" >0.8479</td>\n",
       "                        <td id=\"T_8335e974_1dbf_11eb_b0fb_6805ca61c6b9row1_col3\" class=\"data row1 col3\" >0.9162</td>\n",
       "                        <td id=\"T_8335e974_1dbf_11eb_b0fb_6805ca61c6b9row1_col4\" class=\"data row1 col4\" >0.9039</td>\n",
       "                        <td id=\"T_8335e974_1dbf_11eb_b0fb_6805ca61c6b9row1_col5\" class=\"data row1 col5\" >0.8844</td>\n",
       "                        <td id=\"T_8335e974_1dbf_11eb_b0fb_6805ca61c6b9row1_col6\" class=\"data row1 col6\" >0.8860</td>\n",
       "            </tr>\n",
       "            <tr>\n",
       "                        <th id=\"T_8335e974_1dbf_11eb_b0fb_6805ca61c6b9level0_row2\" class=\"row_heading level0 row2\" >2</th>\n",
       "                        <td id=\"T_8335e974_1dbf_11eb_b0fb_6805ca61c6b9row2_col0\" class=\"data row2 col0\" >0.8636</td>\n",
       "                        <td id=\"T_8335e974_1dbf_11eb_b0fb_6805ca61c6b9row2_col1\" class=\"data row2 col1\" >0.9865</td>\n",
       "                        <td id=\"T_8335e974_1dbf_11eb_b0fb_6805ca61c6b9row2_col2\" class=\"data row2 col2\" >0.7813</td>\n",
       "                        <td id=\"T_8335e974_1dbf_11eb_b0fb_6805ca61c6b9row2_col3\" class=\"data row2 col3\" >0.8607</td>\n",
       "                        <td id=\"T_8335e974_1dbf_11eb_b0fb_6805ca61c6b9row2_col4\" class=\"data row2 col4\" >0.8610</td>\n",
       "                        <td id=\"T_8335e974_1dbf_11eb_b0fb_6805ca61c6b9row2_col5\" class=\"data row2 col5\" >0.8278</td>\n",
       "                        <td id=\"T_8335e974_1dbf_11eb_b0fb_6805ca61c6b9row2_col6\" class=\"data row2 col6\" >0.8281</td>\n",
       "            </tr>\n",
       "            <tr>\n",
       "                        <th id=\"T_8335e974_1dbf_11eb_b0fb_6805ca61c6b9level0_row3\" class=\"row_heading level0 row3\" >3</th>\n",
       "                        <td id=\"T_8335e974_1dbf_11eb_b0fb_6805ca61c6b9row3_col0\" class=\"data row3 col0\" >0.9318</td>\n",
       "                        <td id=\"T_8335e974_1dbf_11eb_b0fb_6805ca61c6b9row3_col1\" class=\"data row3 col1\" >0.9885</td>\n",
       "                        <td id=\"T_8335e974_1dbf_11eb_b0fb_6805ca61c6b9row3_col2\" class=\"data row3 col2\" >0.9071</td>\n",
       "                        <td id=\"T_8335e974_1dbf_11eb_b0fb_6805ca61c6b9row3_col3\" class=\"data row3 col3\" >0.9322</td>\n",
       "                        <td id=\"T_8335e974_1dbf_11eb_b0fb_6805ca61c6b9row3_col4\" class=\"data row3 col4\" >0.9309</td>\n",
       "                        <td id=\"T_8335e974_1dbf_11eb_b0fb_6805ca61c6b9row3_col5\" class=\"data row3 col5\" >0.9137</td>\n",
       "                        <td id=\"T_8335e974_1dbf_11eb_b0fb_6805ca61c6b9row3_col6\" class=\"data row3 col6\" >0.9143</td>\n",
       "            </tr>\n",
       "            <tr>\n",
       "                        <th id=\"T_8335e974_1dbf_11eb_b0fb_6805ca61c6b9level0_row4\" class=\"row_heading level0 row4\" >4</th>\n",
       "                        <td id=\"T_8335e974_1dbf_11eb_b0fb_6805ca61c6b9row4_col0\" class=\"data row4 col0\" >0.8864</td>\n",
       "                        <td id=\"T_8335e974_1dbf_11eb_b0fb_6805ca61c6b9row4_col1\" class=\"data row4 col1\" >0.9796</td>\n",
       "                        <td id=\"T_8335e974_1dbf_11eb_b0fb_6805ca61c6b9row4_col2\" class=\"data row4 col2\" >0.8831</td>\n",
       "                        <td id=\"T_8335e974_1dbf_11eb_b0fb_6805ca61c6b9row4_col3\" class=\"data row4 col3\" >0.8954</td>\n",
       "                        <td id=\"T_8335e974_1dbf_11eb_b0fb_6805ca61c6b9row4_col4\" class=\"data row4 col4\" >0.8814</td>\n",
       "                        <td id=\"T_8335e974_1dbf_11eb_b0fb_6805ca61c6b9row4_col5\" class=\"data row4 col5\" >0.8554</td>\n",
       "                        <td id=\"T_8335e974_1dbf_11eb_b0fb_6805ca61c6b9row4_col6\" class=\"data row4 col6\" >0.8600</td>\n",
       "            </tr>\n",
       "            <tr>\n",
       "                        <th id=\"T_8335e974_1dbf_11eb_b0fb_6805ca61c6b9level0_row5\" class=\"row_heading level0 row5\" >5</th>\n",
       "                        <td id=\"T_8335e974_1dbf_11eb_b0fb_6805ca61c6b9row5_col0\" class=\"data row5 col0\" >0.9205</td>\n",
       "                        <td id=\"T_8335e974_1dbf_11eb_b0fb_6805ca61c6b9row5_col1\" class=\"data row5 col1\" >0.9915</td>\n",
       "                        <td id=\"T_8335e974_1dbf_11eb_b0fb_6805ca61c6b9row5_col2\" class=\"data row5 col2\" >0.9439</td>\n",
       "                        <td id=\"T_8335e974_1dbf_11eb_b0fb_6805ca61c6b9row5_col3\" class=\"data row5 col3\" >0.9235</td>\n",
       "                        <td id=\"T_8335e974_1dbf_11eb_b0fb_6805ca61c6b9row5_col4\" class=\"data row5 col4\" >0.9204</td>\n",
       "                        <td id=\"T_8335e974_1dbf_11eb_b0fb_6805ca61c6b9row5_col5\" class=\"data row5 col5\" >0.9006</td>\n",
       "                        <td id=\"T_8335e974_1dbf_11eb_b0fb_6805ca61c6b9row5_col6\" class=\"data row5 col6\" >0.9011</td>\n",
       "            </tr>\n",
       "            <tr>\n",
       "                        <th id=\"T_8335e974_1dbf_11eb_b0fb_6805ca61c6b9level0_row6\" class=\"row_heading level0 row6\" >6</th>\n",
       "                        <td id=\"T_8335e974_1dbf_11eb_b0fb_6805ca61c6b9row6_col0\" class=\"data row6 col0\" >0.9432</td>\n",
       "                        <td id=\"T_8335e974_1dbf_11eb_b0fb_6805ca61c6b9row6_col1\" class=\"data row6 col1\" >0.9937</td>\n",
       "                        <td id=\"T_8335e974_1dbf_11eb_b0fb_6805ca61c6b9row6_col2\" class=\"data row6 col2\" >0.9592</td>\n",
       "                        <td id=\"T_8335e974_1dbf_11eb_b0fb_6805ca61c6b9row6_col3\" class=\"data row6 col3\" >0.9444</td>\n",
       "                        <td id=\"T_8335e974_1dbf_11eb_b0fb_6805ca61c6b9row6_col4\" class=\"data row6 col4\" >0.9424</td>\n",
       "                        <td id=\"T_8335e974_1dbf_11eb_b0fb_6805ca61c6b9row6_col5\" class=\"data row6 col5\" >0.9286</td>\n",
       "                        <td id=\"T_8335e974_1dbf_11eb_b0fb_6805ca61c6b9row6_col6\" class=\"data row6 col6\" >0.9291</td>\n",
       "            </tr>\n",
       "            <tr>\n",
       "                        <th id=\"T_8335e974_1dbf_11eb_b0fb_6805ca61c6b9level0_row7\" class=\"row_heading level0 row7\" >7</th>\n",
       "                        <td id=\"T_8335e974_1dbf_11eb_b0fb_6805ca61c6b9row7_col0\" class=\"data row7 col0\" >0.9195</td>\n",
       "                        <td id=\"T_8335e974_1dbf_11eb_b0fb_6805ca61c6b9row7_col1\" class=\"data row7 col1\" >0.9922</td>\n",
       "                        <td id=\"T_8335e974_1dbf_11eb_b0fb_6805ca61c6b9row7_col2\" class=\"data row7 col2\" >0.9153</td>\n",
       "                        <td id=\"T_8335e974_1dbf_11eb_b0fb_6805ca61c6b9row7_col3\" class=\"data row7 col3\" >0.9232</td>\n",
       "                        <td id=\"T_8335e974_1dbf_11eb_b0fb_6805ca61c6b9row7_col4\" class=\"data row7 col4\" >0.9168</td>\n",
       "                        <td id=\"T_8335e974_1dbf_11eb_b0fb_6805ca61c6b9row7_col5\" class=\"data row7 col5\" >0.8979</td>\n",
       "                        <td id=\"T_8335e974_1dbf_11eb_b0fb_6805ca61c6b9row7_col6\" class=\"data row7 col6\" >0.8999</td>\n",
       "            </tr>\n",
       "            <tr>\n",
       "                        <th id=\"T_8335e974_1dbf_11eb_b0fb_6805ca61c6b9level0_row8\" class=\"row_heading level0 row8\" >8</th>\n",
       "                        <td id=\"T_8335e974_1dbf_11eb_b0fb_6805ca61c6b9row8_col0\" class=\"data row8 col0\" >0.9195</td>\n",
       "                        <td id=\"T_8335e974_1dbf_11eb_b0fb_6805ca61c6b9row8_col1\" class=\"data row8 col1\" >0.9877</td>\n",
       "                        <td id=\"T_8335e974_1dbf_11eb_b0fb_6805ca61c6b9row8_col2\" class=\"data row8 col2\" >0.9196</td>\n",
       "                        <td id=\"T_8335e974_1dbf_11eb_b0fb_6805ca61c6b9row8_col3\" class=\"data row8 col3\" >0.9299</td>\n",
       "                        <td id=\"T_8335e974_1dbf_11eb_b0fb_6805ca61c6b9row8_col4\" class=\"data row8 col4\" >0.9208</td>\n",
       "                        <td id=\"T_8335e974_1dbf_11eb_b0fb_6805ca61c6b9row8_col5\" class=\"data row8 col5\" >0.8986</td>\n",
       "                        <td id=\"T_8335e974_1dbf_11eb_b0fb_6805ca61c6b9row8_col6\" class=\"data row8 col6\" >0.8995</td>\n",
       "            </tr>\n",
       "            <tr>\n",
       "                        <th id=\"T_8335e974_1dbf_11eb_b0fb_6805ca61c6b9level0_row9\" class=\"row_heading level0 row9\" >9</th>\n",
       "                        <td id=\"T_8335e974_1dbf_11eb_b0fb_6805ca61c6b9row9_col0\" class=\"data row9 col0\" >0.9540</td>\n",
       "                        <td id=\"T_8335e974_1dbf_11eb_b0fb_6805ca61c6b9row9_col1\" class=\"data row9 col1\" >0.9949</td>\n",
       "                        <td id=\"T_8335e974_1dbf_11eb_b0fb_6805ca61c6b9row9_col2\" class=\"data row9 col2\" >0.9625</td>\n",
       "                        <td id=\"T_8335e974_1dbf_11eb_b0fb_6805ca61c6b9row9_col3\" class=\"data row9 col3\" >0.9605</td>\n",
       "                        <td id=\"T_8335e974_1dbf_11eb_b0fb_6805ca61c6b9row9_col4\" class=\"data row9 col4\" >0.9547</td>\n",
       "                        <td id=\"T_8335e974_1dbf_11eb_b0fb_6805ca61c6b9row9_col5\" class=\"data row9 col5\" >0.9428</td>\n",
       "                        <td id=\"T_8335e974_1dbf_11eb_b0fb_6805ca61c6b9row9_col6\" class=\"data row9 col6\" >0.9434</td>\n",
       "            </tr>\n",
       "            <tr>\n",
       "                        <th id=\"T_8335e974_1dbf_11eb_b0fb_6805ca61c6b9level0_row10\" class=\"row_heading level0 row10\" >Mean</th>\n",
       "                        <td id=\"T_8335e974_1dbf_11eb_b0fb_6805ca61c6b9row10_col0\" class=\"data row10 col0\" >0.9191</td>\n",
       "                        <td id=\"T_8335e974_1dbf_11eb_b0fb_6805ca61c6b9row10_col1\" class=\"data row10 col1\" >0.9904</td>\n",
       "                        <td id=\"T_8335e974_1dbf_11eb_b0fb_6805ca61c6b9row10_col2\" class=\"data row10 col2\" >0.9077</td>\n",
       "                        <td id=\"T_8335e974_1dbf_11eb_b0fb_6805ca61c6b9row10_col3\" class=\"data row10 col3\" >0.9229</td>\n",
       "                        <td id=\"T_8335e974_1dbf_11eb_b0fb_6805ca61c6b9row10_col4\" class=\"data row10 col4\" >0.9173</td>\n",
       "                        <td id=\"T_8335e974_1dbf_11eb_b0fb_6805ca61c6b9row10_col5\" class=\"data row10 col5\" >0.8978</td>\n",
       "                        <td id=\"T_8335e974_1dbf_11eb_b0fb_6805ca61c6b9row10_col6\" class=\"data row10 col6\" >0.8991</td>\n",
       "            </tr>\n",
       "            <tr>\n",
       "                        <th id=\"T_8335e974_1dbf_11eb_b0fb_6805ca61c6b9level0_row11\" class=\"row_heading level0 row11\" >SD</th>\n",
       "                        <td id=\"T_8335e974_1dbf_11eb_b0fb_6805ca61c6b9row11_col0\" class=\"data row11 col0\" >0.0261</td>\n",
       "                        <td id=\"T_8335e974_1dbf_11eb_b0fb_6805ca61c6b9row11_col1\" class=\"data row11 col1\" >0.0047</td>\n",
       "                        <td id=\"T_8335e974_1dbf_11eb_b0fb_6805ca61c6b9row11_col2\" class=\"data row11 col2\" >0.0545</td>\n",
       "                        <td id=\"T_8335e974_1dbf_11eb_b0fb_6805ca61c6b9row11_col3\" class=\"data row11 col3\" >0.0267</td>\n",
       "                        <td id=\"T_8335e974_1dbf_11eb_b0fb_6805ca61c6b9row11_col4\" class=\"data row11 col4\" >0.0273</td>\n",
       "                        <td id=\"T_8335e974_1dbf_11eb_b0fb_6805ca61c6b9row11_col5\" class=\"data row11 col5\" >0.0332</td>\n",
       "                        <td id=\"T_8335e974_1dbf_11eb_b0fb_6805ca61c6b9row11_col6\" class=\"data row11 col6\" >0.0328</td>\n",
       "            </tr>\n",
       "    </tbody></table>"
      ],
      "text/plain": [
       "<pandas.io.formats.style.Styler at 0x1ec3182f708>"
      ]
     },
     "metadata": {},
     "output_type": "display_data"
    }
   ],
   "source": [
    "calibrated_et = cl.calibrate_model(tuned_et)"
   ]
  },
  {
   "cell_type": "markdown",
   "metadata": {},
   "source": [
    "#### Visualize Outputs "
   ]
  },
  {
   "cell_type": "code",
   "execution_count": 17,
   "metadata": {},
   "outputs": [],
   "source": [
    "MODEL_CHOICE = et"
   ]
  },
  {
   "cell_type": "code",
   "execution_count": 20,
   "metadata": {},
   "outputs": [
    {
     "data": {
      "image/png": "[encoded data removed]",
      "text/plain": [
       "<Figure size 576x396 with 1 Axes>"
      ]
     },
     "metadata": {},
     "output_type": "display_data"
    }
   ],
   "source": [
    "cl.plot_model(MODEL_CHOICE, plot='confusion_matrix')"
   ]
  },
  {
   "cell_type": "code",
   "execution_count": 21,
   "metadata": {},
   "outputs": [
    {
     "data": {
      "image/png": "[encoded data removed]",
      "text/plain": [
       "<Figure size 576x396 with 1 Axes>"
      ]
     },
     "metadata": {},
     "output_type": "display_data"
    }
   ],
   "source": [
    "cl.plot_model(MODEL_CHOICE, plot='pr')"
   ]
  },
  {
   "cell_type": "code",
   "execution_count": 22,
   "metadata": {},
   "outputs": [
    {
     "data": {
      "image/png": "[encoded data removed]",
      "text/plain": [
       "<Figure size 576x396 with 2 Axes>"
      ]
     },
     "metadata": {},
     "output_type": "display_data"
    }
   ],
   "source": [
    "cl.plot_model(MODEL_CHOICE, plot='class_report')"
   ]
  },
  {
   "cell_type": "code",
   "execution_count": 23,
   "metadata": {},
   "outputs": [
    {
     "data": {
      "image/png": "[encoded data removed]",
      "text/plain": [
       "<Figure size 576x396 with 1 Axes>"
      ]
     },
     "metadata": {},
     "output_type": "display_data"
    }
   ],
   "source": [
    "cl.plot_model(MODEL_CHOICE, plot='auc')"
   ]
  },
  {
   "cell_type": "markdown",
   "metadata": {},
   "source": [
    "### Finalize model"
   ]
  },
  {
   "cell_type": "code",
   "execution_count": 24,
   "metadata": {},
   "outputs": [],
   "source": [
    "final_model = cl.finalize_model(MODEL_CHOICE)"
   ]
  },
  {
   "cell_type": "markdown",
   "metadata": {},
   "source": [
    "### Save model"
   ]
  },
  {
   "cell_type": "code",
   "execution_count": null,
   "metadata": {},
   "outputs": [],
   "source": []
  },
  {
   "cell_type": "code",
   "execution_count": 27,
   "metadata": {},
   "outputs": [],
   "source": [
    "cl.save_config('../models/2020-11-03_ET_calibrated_7class_config')"
   ]
  },
  {
   "cell_type": "code",
   "execution_count": 29,
   "metadata": {},
   "outputs": [
    {
     "name": "stdout",
     "output_type": "stream",
     "text": [
      "Transformation Pipeline and Model Succesfully Saved\n"
     ]
    },
    {
     "data": {
      "text/plain": [
       "(Pipeline(memory=None,\n",
       "          steps=[('dtypes',\n",
       "                  DataTypes_Auto_infer(categorical_features=[],\n",
       "                                       display_types=True, features_todrop=[],\n",
       "                                       id_columns=[],\n",
       "                                       ml_usecase='classification',\n",
       "                                       numerical_features=[], target='L4',\n",
       "                                       time_features=[])),\n",
       "                 ('imputer',\n",
       "                  Simple_Imputer(categorical_strategy='not_available',\n",
       "                                 fill_value_categorical=None,\n",
       "                                 fill_value_numerical=None,\n",
       "                                 numeric_strategy=...\n",
       "                  ExtraTreesClassifier(bootstrap=False, ccp_alpha=0.0,\n",
       "                                       class_weight=None, criterion='gini',\n",
       "                                       max_depth=None, max_features='auto',\n",
       "                                       max_leaf_nodes=None, max_samples=None,\n",
       "                                       min_impurity_decrease=0.0,\n",
       "                                       min_impurity_split=None,\n",
       "                                       min_samples_leaf=1, min_samples_split=2,\n",
       "                                       min_weight_fraction_leaf=0.0,\n",
       "                                       n_estimators=100, n_jobs=-1,\n",
       "                                       oob_score=False, random_state=123,\n",
       "                                       verbose=0, warm_start=False)]],\n",
       "          verbose=False),\n",
       " '../models/2020-11-03_ET_calibrated_7class_model.pkl')"
      ]
     },
     "execution_count": 29,
     "metadata": {},
     "output_type": "execute_result"
    }
   ],
   "source": [
    "cl.save_model(MODEL_CHOICE, '../models/2020-11-03_ET_calibrated_7class_model')"
   ]
  },
  {
   "cell_type": "code",
   "execution_count": null,
   "metadata": {},
   "outputs": [],
   "source": []
  },
  {
   "cell_type": "markdown",
   "metadata": {},
   "source": [
    "### Evaluate Predictions "
   ]
  },
  {
   "cell_type": "code",
   "execution_count": null,
   "metadata": {},
   "outputs": [],
   "source": [
    "from sklearn import metrics"
   ]
  },
  {
   "cell_type": "code",
   "execution_count": null,
   "metadata": {},
   "outputs": [],
   "source": [
    "metrics.confusion_matrix(data_val['L4'], cl.predict_model(final_cb, data_val)['L4'])"
   ]
  },
  {
   "cell_type": "code",
   "execution_count": null,
   "metadata": {},
   "outputs": [],
   "source": []
  }
 ],
 "metadata": {
  "kernelspec": {
   "display_name": "Python 3",
   "language": "python",
   "name": "python3"
  },
  "language_info": {
   "codemirror_mode": {
    "name": "ipython",
    "version": 3
   },
   "file_extension": ".py",
   "mimetype": "text/x-python",
   "name": "python",
   "nbconvert_exporter": "python",
   "pygments_lexer": "ipython3",
   "version": "3.7.7"
  }
 },
 "nbformat": 4,
 "nbformat_minor": 4
}
